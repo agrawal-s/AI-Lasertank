{
 "cells": [
  {
   "cell_type": "code",
   "execution_count": null,
   "metadata": {},
   "outputs": [],
   "source": []
  },
  {
   "cell_type": "code",
   "execution_count": null,
   "metadata": {},
   "outputs": [],
   "source": []
  },
  {
   "cell_type": "code",
   "execution_count": null,
   "metadata": {},
   "outputs": [],
   "source": []
  },
  {
   "cell_type": "code",
   "execution_count": null,
   "metadata": {},
   "outputs": [
    {
     "name": "stdout",
     "output_type": "stream",
     "text": [
      "Use W to move forward, A and S to turn. Use (spacebar) to shoot. Press 'q' to quit.Press 'r' to restart the map.\n",
      "XXXXXXXXXXXXXXXXXXXXXXXX\n",
      "XXX(T)-I--I- F XXXXXXXXX\n",
      "XXXXXXWWWWWWWWWWWWXXXXXX\n",
      "XXXWWWWWWWWWWWWWWWWWWXXX\n",
      "XXXWWW(T)WWWWWW   WWWXXX\n",
      "XXXXXXXXXXXX         XXX\n",
      "XXXXXXXXXXXX         XXX\n",
      "XXXXXXXXXXXXXXX   XXXXXX\n",
      "XXX   [B]   [B][B]XXXXXX\n",
      "XXX            [^]XXXXXX\n",
      "XXXXXXXXXXXXXXXXXXXXXXXX\n",
      "\n",
      "\n",
      "\n",
      "\n",
      "\n",
      "\n",
      "\n",
      "\n",
      "\n",
      "\n"
     ]
    }
   ],
   "source": [
    "%run laser_tank t1_bridgeport.txt \n"
   ]
  },
  {
   "cell_type": "code",
   "execution_count": null,
   "metadata": {},
   "outputs": [],
   "source": [
    "import os\n",
    "os.getcwd()"
   ]
  },
  {
   "cell_type": "code",
   "execution_count": 2,
   "metadata": {},
   "outputs": [
    {
     "data": {
      "text/plain": [
       "['-f',\n",
       " 'C:\\\\Users\\\\s4562394\\\\AppData\\\\Roaming\\\\jupyter\\\\runtime\\\\kernel-49dcb941-22b5-4620-a171-aad4db267c3d.json']"
      ]
     },
     "execution_count": 2,
     "metadata": {},
     "output_type": "execute_result"
    }
   ],
   "source": [
    "import sys\n",
    "sys.argv[1:]"
   ]
  }
 ],
 "metadata": {
  "kernelspec": {
   "display_name": "Python 3",
   "language": "python",
   "name": "python3"
  },
  "language_info": {
   "codemirror_mode": {
    "name": "ipython",
    "version": 3
   },
   "file_extension": ".py",
   "mimetype": "text/x-python",
   "name": "python",
   "nbconvert_exporter": "python",
   "pygments_lexer": "ipython3",
   "version": "3.7.7"
  }
 },
 "nbformat": 4,
 "nbformat_minor": 4
}
