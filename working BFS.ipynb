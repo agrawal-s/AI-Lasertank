{
 "cells": [
  {
   "cell_type": "code",
   "execution_count": 1,
   "metadata": {},
   "outputs": [],
   "source": [
    "import os\n",
    "import sys\n",
    "sys.path.insert(0, os.path.abspath('C://Users//s4562394//Downloads//assignment-1-support-code-master//'))\n",
    "\n",
    "import laser_tank as lt\n"
   ]
  },
  {
   "cell_type": "code",
   "execution_count": 2,
   "metadata": {},
   "outputs": [
    {
     "name": "stdout",
     "output_type": "stream",
     "text": [
      "XXXXXXXXXXXXXXXXXXXXXXXXXXX\n",
      "XXX                   F XXX\n",
      "XXX   XXXXXXXXXXXXXXXXXXXXX\n",
      "XXX                     XXX\n",
      "XXXXXXXXXXXX   XXXXXXXXXXXX\n",
      "XXX            XXXXXXXXXXXX\n",
      "XXX   XXXXXXXXXXXXXXXXXXXXX\n",
      "XXX                  [^]XXX\n",
      "XXXXXXXXXXXXXXXXXXXXXXXXXXX\n",
      "\n",
      "\n",
      "\n",
      "\n",
      "\n",
      "\n",
      "\n",
      "\n",
      "\n",
      "\n",
      "\n",
      "\n"
     ]
    }
   ],
   "source": [
    "obs = '#'\n",
    "wat = 'W'\n",
    "bdg = 'B'\n",
    "bck = 'K'\n",
    "ice =  'I'\n",
    "tlp = 'T'\n",
    "mir = ['1', '2','3', '4']\n",
    "att = ['U','D','L','R']\n",
    "ply = ['^','v','<','>']\n",
    "lnd = ' '\n",
    "flg = 'F'\n",
    "grid_data_raw = [[] for _ in range(9)]\n",
    "grid_data_raw[0] = [obs,obs,obs,obs,obs,obs,obs,obs,obs]\n",
    "grid_data_raw[1] = [obs,lnd,lnd,lnd,lnd,lnd,lnd,flg,obs]\n",
    "grid_data_raw[2] = [obs,lnd,obs,obs,obs,obs,obs,obs,obs]\n",
    "grid_data_raw[3] = [obs,lnd,lnd,lnd,lnd,lnd,lnd,lnd,obs]\n",
    "grid_data_raw[4] = [obs,obs,obs,obs,lnd,obs,obs,obs,obs]\n",
    "grid_data_raw[5] = [obs,lnd,lnd,lnd,lnd,obs,obs,obs,obs]\n",
    "grid_data_raw[6] = [obs,lnd,obs,obs,obs,obs,obs,obs,obs]\n",
    "grid_data_raw[7] = [obs,lnd,lnd,lnd,lnd,lnd,lnd,ply[0],obs]\n",
    "grid_data_raw[8] = [obs,obs,obs,obs,obs,obs,obs,obs,obs]\n",
    "\n",
    "grid_data1 = [[column for column in row] for row in grid_data_raw]\n",
    "grid_data2 = [[column for column in row] for row in grid_data_raw]\n",
    "\n",
    "map1 = lt.LaserTankMap( 9, 9, grid_data1, player_x=None, player_y=None, player_heading=None)\n",
    "#map2 = lt.LaserTankMap( 9, 9, grid_data2, player_x=None, player_y=None, player_heading=None)\n",
    "#\n",
    "map1.render()\n",
    "#"
   ]
  },
  {
   "cell_type": "code",
   "execution_count": 47,
   "metadata": {},
   "outputs": [
    {
     "data": {
      "text/plain": [
       "[['#', '#', '#', '#', '#', '#', '#', '#', '#'],\n",
       " ['#', ' ', ' ', ' ', ' ', ' ', ' ', 'F', '#'],\n",
       " ['#', ' ', '#', '#', '#', '#', '#', '#', '#'],\n",
       " ['#', ' ', ' ', ' ', ' ', ' ', ' ', ' ', '#'],\n",
       " ['#', '#', '#', '#', ' ', '#', '#', '#', '#'],\n",
       " ['#', ' ', ' ', ' ', ' ', '#', '#', '#', '#'],\n",
       " ['#', ' ', '#', '#', '#', '#', '#', '#', '#'],\n",
       " ['#', ' ', ' ', ' ', ' ', ' ', ' ', ' ', '#'],\n",
       " ['#', '#', '#', '#', '#', '#', '#', '#', '#']]"
      ]
     },
     "execution_count": 47,
     "metadata": {},
     "output_type": "execute_result"
    }
   ],
   "source": [
    "grid_data"
   ]
  },
  {
   "cell_type": "code",
   "execution_count": 63,
   "metadata": {},
   "outputs": [],
   "source": [
    "'''\n",
    "Diagonal movement cost = 14\n",
    "side movement cost = 10\n",
    "\n",
    "\n",
    "\n",
    "'''\n",
    "\n",
    "class Cell(object):\n",
    "    obs = 'XXX'\n",
    "    wat = 'WWW'\n",
    "    bdg = '[B]'\n",
    "    bck = '[K]'\n",
    "    ice =  '-I-'\n",
    "    tlp = '(T)'\n",
    "    mir = [' /|', '|\\ ',' \\|', '|/ ']\n",
    "    att = ['[U]','[D]','[L]','[R]']\n",
    "    ply = ['[^]','[v]','[<]','[>]']\n",
    "    lnd = '   '\n",
    "    flg = ' F '\n",
    "        \n",
    "    def __init__(self, y, x):\n",
    "        self.x = x\n",
    "        self.y = y\n",
    "        self.connections = [[0,1], [0,-1], [1,0], [-1,0]]\n",
    "        self.grid_pos = [y,x]\n",
    "        self.f = None\n",
    "        self.g = None\n",
    "        self.h = None\n",
    "    \n",
    "    def find_neighbours(self,lmap):\n",
    "    \n",
    "        cell = self.grid_pos\n",
    "        grid_data = lmap.grid_data\n",
    "        connections =  [[0,1], [0,-1], [1,0], [-1,0]]\n",
    "        neighbours = [self.find_next_cell(connection) for connection in self.connections]\n",
    "        neighbours = [cell for cell in neighbours if not lmap.cell_is_blocked(cell[0], cell[1])]\n",
    "        return neighbours\n",
    "    \n",
    "    def find_next_cell(self,connection):\n",
    "        \n",
    "        from operator import add\n",
    "        from operator import sub\n",
    "        \n",
    "        return list( map(add, self.grid_pos, connection))\n",
    "    \n",
    "    def find_flag(self,lmap):\n",
    "        flag = lmap.FLAG_SYMBOL\n",
    "        grid = lmap.grid_data\n",
    "        for i,row in enumerate(grid):\n",
    "            for j,block in enumerate(row):\n",
    "                if block == flag:\n",
    "                    x = j\n",
    "                    y = i\n",
    "                    return(list([y,x]))\n",
    "\n",
    "    \n",
    "    def find_l1(self, target):\n",
    "        return (abs(target.x - self.x) + abs(target.y -self.y))\n",
    "    \n",
    "    def find_l2(self, target):\n",
    "        value = round((((target.x - self.x)**2 + (target.y -self.y)**2)**(0.5))*10)\n",
    "     \n",
    "        return value\n",
    "    \n",
    "    "
   ]
  },
  {
   "cell_type": "code",
   "execution_count": 25,
   "metadata": {},
   "outputs": [
    {
     "name": "stdout",
     "output_type": "stream",
     "text": [
      "22\n"
     ]
    },
    {
     "data": {
      "text/plain": [
       "[[3, 1], [1, 1]]"
      ]
     },
     "execution_count": 25,
     "metadata": {},
     "output_type": "execute_result"
    }
   ],
   "source": [
    "cell1 = Cell(0,0)\n",
    "\n",
    "cell2 = Cell(3,3)\n",
    "\n",
    "print(cell1.find_l2(cell2))\n",
    "cell1.find_neighbours(map1)"
   ]
  },
  {
   "cell_type": "code",
   "execution_count": 27,
   "metadata": {},
   "outputs": [
    {
     "data": {
      "text/plain": [
       "3.1622776601683795"
      ]
     },
     "execution_count": 27,
     "metadata": {},
     "output_type": "execute_result"
    }
   ],
   "source": [
    "10**(0.5)"
   ]
  },
  {
   "cell_type": "code",
   "execution_count": 17,
   "metadata": {},
   "outputs": [
    {
     "name": "stdout",
     "output_type": "stream",
     "text": [
      "XXXXXXXXXXXXXXXXXXXXXXXXXXX\n",
      "XXX                   F XXX\n",
      "XXX   XXXXXXXXXXXXXXXXXXXXX\n",
      "XXX                     XXX\n",
      "XXXXXXXXXXXX   XXXXXXXXXXXX\n",
      "XXX            XXXXXXXXXXXX\n",
      "XXX   XXXXXXXXXXXXXXXXXXXXX\n",
      "XXX                  [^]XXX\n",
      "XXXXXXXXXXXXXXXXXXXXXXXXXXX\n",
      "\n",
      "\n",
      "\n",
      "\n",
      "\n",
      "\n",
      "\n",
      "\n",
      "\n",
      "\n",
      "\n",
      "\n"
     ]
    }
   ],
   "source": [
    "map1.render()"
   ]
  },
  {
   "cell_type": "code",
   "execution_count": 28,
   "metadata": {},
   "outputs": [],
   "source": [
    "def set_player_position(lmap,pos):\n",
    "    lmap.player_x = pos[1]\n",
    "    lmap.player_y = pos[0]\n",
    "    \n",
    "    return\n",
    "    "
   ]
  },
  {
   "cell_type": "code",
   "execution_count": 29,
   "metadata": {},
   "outputs": [
    {
     "name": "stdout",
     "output_type": "stream",
     "text": [
      "XXXXXXXXXXXXXXXXXXXXXXXXXXX\n",
      "XXX                   F XXX\n",
      "XXX   XXXXXXXXXXXXXXXXXXXXX\n",
      "XXX                     XXX\n",
      "XXXXXXXXXXXX   XXXXXXXXXXXX\n",
      "XXX            XXXXXXXXXXXX\n",
      "XXX   XXXXXXXXXXXXXXXXXXXXX\n",
      "XXX                  [^]XXX\n",
      "XXXXXXXXXXXXXXXXXXXXXXXXXXX\n",
      "\n",
      "\n",
      "\n",
      "\n",
      "\n",
      "\n",
      "\n",
      "\n",
      "\n",
      "\n",
      "\n",
      "\n"
     ]
    }
   ],
   "source": [
    "map1.render()"
   ]
  },
  {
   "cell_type": "code",
   "execution_count": 44,
   "metadata": {},
   "outputs": [
    {
     "name": "stdout",
     "output_type": "stream",
     "text": [
      "XXXXXXXXXXXXXXXXXXXXXXXXXXX\n",
      "XXX[^]                F XXX\n",
      "XXX   XXXXXXXXXXXXXXXXXXXXX\n",
      "XXX                     XXX\n",
      "XXXXXXXXXXXX   XXXXXXXXXXXX\n",
      "XXX            XXXXXXXXXXXX\n",
      "XXX   XXXXXXXXXXXXXXXXXXXXX\n",
      "XXX                     XXX\n",
      "XXXXXXXXXXXXXXXXXXXXXXXXXXX\n",
      "\n",
      "\n",
      "\n",
      "\n",
      "\n",
      "\n",
      "\n",
      "\n",
      "\n",
      "\n",
      "\n",
      "\n"
     ]
    }
   ],
   "source": [
    "set_player_position(map1,[1,1])\n",
    "map1.render()"
   ]
  },
  {
   "cell_type": "code",
   "execution_count": 205,
   "metadata": {},
   "outputs": [
    {
     "name": "stdout",
     "output_type": "stream",
     "text": [
      "XXXXXXXXXXXXXXXXXXXXXXXXXXX\n",
      "XXX(T)                F XXX\n",
      "XXX   XXXXXXXXXXXXXXXXXXXXX\n",
      "XXX                     XXX\n",
      "XXXXXXXXXXXX   XXXXXXXXXXXX\n",
      "XXX            XXXXXXXXXXXX\n",
      "XXX   XXXXXXXXXXXXXXXXXXXXX\n",
      "XXX(T)               [^]XXX\n",
      "XXXXXXXXXXXXXXXXXXXXXXXXXXX\n",
      "\n",
      "\n",
      "\n",
      "\n",
      "\n",
      "\n",
      "\n",
      "\n",
      "\n",
      "\n",
      "\n",
      "\n"
     ]
    }
   ],
   "source": [
    "grid_data2 = [[column for column in row] for row in grid_data_raw]\n",
    "grid_data2[7][1] = tlp\n",
    "grid_data2[1][1] = tlp\n",
    "\n",
    "map2= lt.LaserTankMap( 9, 9, grid_data2, player_x=None, player_y=None, player_heading=None)\n",
    "map2.render()"
   ]
  },
  {
   "cell_type": "code",
   "execution_count": 58,
   "metadata": {},
   "outputs": [
    {
     "name": "stdout",
     "output_type": "stream",
     "text": [
      "XXXXXXXXXXXXXXXXXXXXXXXXXXX\n",
      "XXX                   F XXX\n",
      "XXX   XXXXXXXXXXXXXXXXXXXXX\n",
      "XXX                     XXX\n",
      "XXXXXXXXXXXX   XXXXXXXXXXXX\n",
      "XXX            XXXXXXXXXXXX\n",
      "XXX   XXXXXXXXXXXXXXXXXXXXX\n",
      "XXX                  [<]XXX\n",
      "XXXXXXXXXXXXXXXXXXXXXXXXXXX\n",
      "\n",
      "\n",
      "\n",
      "\n",
      "\n",
      "\n",
      "\n",
      "\n",
      "\n",
      "\n",
      "\n",
      "\n"
     ]
    }
   ],
   "source": [
    "map2.render()"
   ]
  },
  {
   "cell_type": "code",
   "execution_count": 57,
   "metadata": {},
   "outputs": [
    {
     "data": {
      "text/plain": [
       "0"
      ]
     },
     "execution_count": 57,
     "metadata": {},
     "output_type": "execute_result"
    }
   ],
   "source": [
    "map2.apply_move('l')"
   ]
  },
  {
   "cell_type": "code",
   "execution_count": 66,
   "metadata": {},
   "outputs": [],
   "source": [
    "cell3 = Cell(7,7)"
   ]
  },
  {
   "cell_type": "code",
   "execution_count": 67,
   "metadata": {},
   "outputs": [
    {
     "data": {
      "text/plain": [
       "[[7, 6]]"
      ]
     },
     "execution_count": 67,
     "metadata": {},
     "output_type": "execute_result"
    }
   ],
   "source": [
    "cell3.find_neighbours(map2)"
   ]
  },
  {
   "cell_type": "code",
   "execution_count": 224,
   "metadata": {},
   "outputs": [],
   "source": [
    "from collections import deque\n",
    "from operator import sub\n",
    "from operator import add\n",
    "\n",
    "\n",
    "def find_neighbours(lmap, input_cell):\n",
    "    \n",
    "    grid_data = lmap.grid_data\n",
    "    connections =  [[0,1], [0,-1], [1,0], [-1,0]]\n",
    "    neighbours = [find_next_cell(input_cell, connection) for connection in connections]\n",
    "    neighbours = [cell for cell in neighbours if not lmap.cell_is_blocked(cell[0], cell[1])]\n",
    "    neighbours = [cell for cell in neighbours if not lmap.cell_is_game_over(cell[0], cell[1])]\n",
    "    \n",
    "    return neighbours\n",
    "\n",
    "\n",
    "\n",
    "\n",
    "def find_next_cell(cell, connection):\n",
    "        \n",
    "    from operator import add\n",
    "    from operator import sub\n",
    "    \n",
    "    return list( map(add, cell, connection) )\n",
    "\n",
    "\n",
    "def passable(grid_data, cell):\n",
    "        ''' \n",
    "        check if node is not blocks\n",
    "        '''\n",
    "        list1 = find_blockage(grid_data)\n",
    "        return (cell not in list1)\n",
    "    \n",
    "def find_blockage(grid_data):\n",
    "    blockage_list = []\n",
    "    for i, row in enumerate(grid_data):\n",
    "        for j, cell in enumerate(row):\n",
    "            if cell in [obs,wat,tlp]:\n",
    "                blockage_list.append([i,j])\n",
    "    \n",
    "    return blockage_list\n",
    "            \n",
    "    \n",
    "def find_flag(lmap):\n",
    "    flag = lmap.FLAG_SYMBOL\n",
    "    grid = lmap.grid_data\n",
    "    for i,row in enumerate(grid):\n",
    "        for j,block in enumerate(row):\n",
    "            if block == flag:\n",
    "                x = j\n",
    "                y = i\n",
    "                return(list([y,x]))\n",
    "\n",
    "def find_teleport(lmap,curr):\n",
    "    tlp = lmap.TELEPORT_SYMBOL\n",
    "    grid = lmap.grid_data\n",
    "    for i,row in enumerate(grid):\n",
    "        for j,block in enumerate(row):\n",
    "            if block == tlp :\n",
    "                x = j\n",
    "                y = i\n",
    "                if (list([y,x]) != curr):\n",
    "                    return(list([y,x]))\n",
    "                else:\n",
    "                    return None\n",
    "    \n",
    "    \n",
    "\n",
    "def BFS(lmap, start, goal):\n",
    "    #x = lmap.player_x\n",
    "    #y = lmap.player_y\n",
    "    #\n",
    "    #start = [y,x]\n",
    "    #goal = find_flag(lmap)\n",
    "    \n",
    "    \n",
    "    frontier = deque() \n",
    "    frontier.append(start)\n",
    "    visited = []\n",
    "    visited.append(start)\n",
    "    path = {}\n",
    "    backtrack = {}\n",
    "    backtrack[tuple(start)] = tuple(start)\n",
    "    \n",
    "    tlp = lmap.TELEPORT_SYMBOL\n",
    "    \n",
    "    \n",
    "    \n",
    "    path[tuple(start)] = [0,0]\n",
    "    \n",
    "    while len(frontier) > 0:\n",
    "        current = frontier.popleft()\n",
    "        #print('current node = ', current)\n",
    "        #print('goal node = ', goal)\n",
    "        \n",
    "            \n",
    "        if current == tuple(goal):\n",
    "            break\n",
    "        neighbours = find_neighbours(lmap,current)\n",
    "        \n",
    "        \n",
    "        \n",
    "        for next in neighbours:\n",
    "           #if next not in visited:\n",
    "           #    frontier.append(next)\n",
    "           #    visited.append(next)\n",
    "           #\n",
    "            if next is not None:\n",
    "                if lmap.grid_data[next[0]][next[1]] == tlp:\n",
    "                    next = find_teleport(lmap,next)\n",
    "                    \n",
    "            if tuple(next) not in path:\n",
    "                frontier.append(tuple(next))\n",
    "                backtrack[tuple(next)] = tuple(current)\n",
    "                path[tuple(next)] = list( map(sub, current, next))\n",
    "    \n",
    "    #getting path from start to goal\n",
    "    \n",
    "    #current = list( map(add, start, path[tuple(start)]))\n",
    "    #while current != goal:\n",
    "    #    print(current)\n",
    "    #    current = list( map(add, current, path[tuple(current)]))\n",
    "    #    \n",
    "        \n",
    "    \n",
    "    #print('total nodes searched = ', len(path))\n",
    "    #print(path)\n",
    "    \n",
    "    if tuple(goal) not in backtrack:\n",
    "        #print ('dead end reach. no path found.')\n",
    "        return\n",
    "    \n",
    "    path_list = [goal,start]\n",
    "    \n",
    "    key = tuple(goal)\n",
    "    \n",
    "    \n",
    "    while backtrack[key] != tuple(start):\n",
    "        #print(backtrack[key])\n",
    "        path_list.insert(-1,list(backtrack[key]))\n",
    "        key = backtrack[key]\n",
    "        \n",
    "    \n",
    "    path_list.reverse()\n",
    "    \n",
    "    return path_list   "
   ]
  },
  {
   "cell_type": "code",
   "execution_count": 215,
   "metadata": {},
   "outputs": [
    {
     "ename": "TypeError",
     "evalue": "'NoneType' object is not subscriptable",
     "output_type": "error",
     "traceback": [
      "\u001b[1;31m---------------------------------------------------------------------------\u001b[0m",
      "\u001b[1;31mTypeError\u001b[0m                                 Traceback (most recent call last)",
      "\u001b[1;32m<ipython-input-215-32d027f336b1>\u001b[0m in \u001b[0;36m<module>\u001b[1;34m\u001b[0m\n\u001b[1;32m----> 1\u001b[1;33m \u001b[0mpath\u001b[0m \u001b[1;33m=\u001b[0m \u001b[0mBFS\u001b[0m\u001b[1;33m(\u001b[0m\u001b[0mmap2\u001b[0m\u001b[1;33m,\u001b[0m \u001b[1;33m[\u001b[0m\u001b[1;36m3\u001b[0m\u001b[1;33m,\u001b[0m\u001b[1;36m7\u001b[0m\u001b[1;33m]\u001b[0m\u001b[1;33m,\u001b[0m \u001b[1;33m[\u001b[0m\u001b[1;36m1\u001b[0m\u001b[1;33m,\u001b[0m\u001b[1;36m7\u001b[0m\u001b[1;33m]\u001b[0m\u001b[1;33m)\u001b[0m\u001b[1;33m\u001b[0m\u001b[1;33m\u001b[0m\u001b[0m\n\u001b[0m\u001b[0;32m      2\u001b[0m \u001b[1;31m#backtrack = {(7, 7): (7, 7), (7, 6): (7, 7), (7, 5): (7, 6), (7, 4): (7, 5), (7, 3): (7, 4), (7, 2): (7, 3)}\u001b[0m\u001b[1;33m\u001b[0m\u001b[1;33m\u001b[0m\u001b[1;33m\u001b[0m\u001b[0m\n",
      "\u001b[1;32m<ipython-input-214-d40e4f337b1c>\u001b[0m in \u001b[0;36mBFS\u001b[1;34m(lmap, start, goal)\u001b[0m\n\u001b[0;32m     94\u001b[0m         \u001b[1;31m#print('goal node = ', goal)\u001b[0m\u001b[1;33m\u001b[0m\u001b[1;33m\u001b[0m\u001b[1;33m\u001b[0m\u001b[0m\n\u001b[0;32m     95\u001b[0m \u001b[1;33m\u001b[0m\u001b[0m\n\u001b[1;32m---> 96\u001b[1;33m         \u001b[1;32mif\u001b[0m \u001b[0mlmap\u001b[0m\u001b[1;33m.\u001b[0m\u001b[0mgrid_data\u001b[0m\u001b[1;33m[\u001b[0m\u001b[0mcurrent\u001b[0m\u001b[1;33m[\u001b[0m\u001b[1;36m0\u001b[0m\u001b[1;33m]\u001b[0m\u001b[1;33m]\u001b[0m\u001b[1;33m[\u001b[0m\u001b[0mcurrent\u001b[0m\u001b[1;33m[\u001b[0m\u001b[1;36m1\u001b[0m\u001b[1;33m]\u001b[0m\u001b[1;33m]\u001b[0m \u001b[1;33m==\u001b[0m \u001b[0mtlp\u001b[0m\u001b[1;33m:\u001b[0m\u001b[1;33m\u001b[0m\u001b[1;33m\u001b[0m\u001b[0m\n\u001b[0m\u001b[0;32m     97\u001b[0m             \u001b[0mnew_teleport\u001b[0m \u001b[1;33m=\u001b[0m \u001b[0mfind_teleport\u001b[0m\u001b[1;33m(\u001b[0m\u001b[0mlmap\u001b[0m\u001b[1;33m,\u001b[0m\u001b[0mcurrent\u001b[0m\u001b[1;33m)\u001b[0m\u001b[1;33m\u001b[0m\u001b[1;33m\u001b[0m\u001b[0m\n\u001b[0;32m     98\u001b[0m             \u001b[0mfrontier\u001b[0m\u001b[1;33m.\u001b[0m\u001b[0mappendleft\u001b[0m\u001b[1;33m(\u001b[0m\u001b[0mnew_teleport\u001b[0m\u001b[1;33m)\u001b[0m\u001b[1;33m\u001b[0m\u001b[1;33m\u001b[0m\u001b[0m\n",
      "\u001b[1;31mTypeError\u001b[0m: 'NoneType' object is not subscriptable"
     ]
    }
   ],
   "source": [
    "path = BFS(map2, [3,7], [1,7])\n",
    "#backtrack = {(7, 7): (7, 7), (7, 6): (7, 7), (7, 5): (7, 6), (7, 4): (7, 5), (7, 3): (7, 4), (7, 2): (7, 3)}"
   ]
  },
  {
   "cell_type": "code",
   "execution_count": 168,
   "metadata": {},
   "outputs": [
    {
     "data": {
      "text/plain": [
       "2"
      ]
     },
     "execution_count": 168,
     "metadata": {},
     "output_type": "execute_result"
    }
   ],
   "source": [
    "path\n",
    "len(path)"
   ]
  },
  {
   "cell_type": "code",
   "execution_count": null,
   "metadata": {},
   "outputs": [],
   "source": [
    "        if current is not None:\n",
    "            if lmap.grid_data[current[0]][current[1]] == tlp:\n",
    "                new_teleport = find_teleport(lmap,current)\n",
    "                frontier.appendleft(new_teleport)\n",
    "        "
   ]
  },
  {
   "cell_type": "code",
   "execution_count": 179,
   "metadata": {},
   "outputs": [
    {
     "name": "stdout",
     "output_type": "stream",
     "text": [
      "left\n",
      "forward\n",
      "forward\n",
      "forward\n",
      "forward\n",
      "forward\n",
      "forward\n",
      "right\n",
      "forward\n",
      "forward\n",
      "right\n",
      "forward\n",
      "forward\n",
      "forward\n",
      "forward\n",
      "forward\n",
      "forward\n"
     ]
    }
   ],
   "source": [
    "MOVE_FORWARD = 'f'\n",
    "TURN_LEFT = 'l'\n",
    "TURN_RIGHT = 'r'\n",
    "SHOOT_LASER = 's'\n",
    "MOVES = [MOVE_FORWARD, TURN_LEFT, TURN_RIGHT, SHOOT_LASER]\n",
    "# directions\n",
    "UP = 0\n",
    "DOWN = 1\n",
    "LEFT = 2\n",
    "RIGHT = 3\n",
    "# move return statuses\n",
    "SUCCESS = 0\n",
    "COLLISION = 1\n",
    "GAME_OVER = 2\n",
    "\n",
    "player_heading = 0\n",
    "\n",
    "for i in range(len(path) - 1):\n",
    "    \n",
    "    move = list( map(sub, path[i], path[i+1]))\n",
    "    if move == [0, 1]:\n",
    "        \n",
    "        if player_heading == UP :\n",
    "            print('left')\n",
    "            player_heading = 2\n",
    "            print('forward')\n",
    "        elif player_heading == DOWN :\n",
    "            print('right')\n",
    "            player_heading = 2\n",
    "            \n",
    "            print('forward')\n",
    "        elif player_heading == LEFT :\n",
    "            player_heading = 2\n",
    "            \n",
    "            print('forward')\n",
    "        elif player_heading == RIGHT :\n",
    "            print('left')\n",
    "            player_heading = 2\n",
    "            print('left')\n",
    "            print('forward')\n",
    "        \n",
    "        \n",
    "    elif move == [0, -1]:\n",
    "        \n",
    "        if player_heading == UP :\n",
    "            print('right')\n",
    "            player_heading = 3\n",
    "            print('forward')\n",
    "        elif player_heading == DOWN :\n",
    "            print('left')\n",
    "            player_heading = 3\n",
    "            print('forward')\n",
    "        elif player_heading == LEFT :\n",
    "            print('left')\n",
    "            print('left')\n",
    "            player_heading = 3\n",
    "            print('forward')\n",
    "        elif player_heading == RIGHT :\n",
    "            print('forward')\n",
    "        \n",
    "        \n",
    "        \n",
    "    elif move == [1, 0]:\n",
    "        \n",
    "        if player_heading == UP :\n",
    "            print('forward')\n",
    "        elif player_heading == DOWN :\n",
    "            print('left')\n",
    "            print('left')\n",
    "            player_heading = 0\n",
    "            print('forward')\n",
    "        elif player_heading == LEFT :\n",
    "            print('right')\n",
    "            player_heading = 0\n",
    "            print('forward')\n",
    "        elif player_heading == RIGHT :\n",
    "            print('left')\n",
    "            player_heading = 0\n",
    "            print('forward')\n",
    "        \n",
    "        \n",
    "    elif move == [-1,0]:\n",
    "        \n",
    "        if player_heading == UP :\n",
    "            print('left')\n",
    "            print('left')\n",
    "            player_heading = 1\n",
    "            print('forward')\n",
    "        elif player_heading == DOWN :\n",
    "            print('forward')\n",
    "        elif player_heading == LEFT :\n",
    "            print('left')\n",
    "            player_heading = 1\n",
    "            print('forward')\n",
    "        elif player_heading == RIGHT :\n",
    "            print('right')\n",
    "            player_heading = 1\n",
    "            print('forward')\n",
    "        \n",
    "        \n",
    "    \n",
    "    \n",
    "    #print(move)\n",
    "    \n",
    "    #print (path[i] - path[i+1])"
   ]
  },
  {
   "cell_type": "code",
   "execution_count": 195,
   "metadata": {},
   "outputs": [],
   "source": [
    "def get_moves(lmap, start, end):\n",
    "    \n",
    "    path = BFS(lmap, start, end)\n",
    "    \n",
    "    if path is None:\n",
    "        print('No path found.')\n",
    "        return\n",
    "    MOVE_FORWARD = 'f'\n",
    "    TURN_LEFT = 'l'\n",
    "    TURN_RIGHT = 'r'\n",
    "    SHOOT_LASER = 's'\n",
    "    MOVES = [MOVE_FORWARD, TURN_LEFT, TURN_RIGHT, SHOOT_LASER]\n",
    "    # directions\n",
    "    UP = 0\n",
    "    DOWN = 1\n",
    "    LEFT = 2\n",
    "    RIGHT = 3\n",
    "    # move return statuses\n",
    "    SUCCESS = 0\n",
    "    COLLISION = 1\n",
    "    GAME_OVER = 2\n",
    "    moves_list = []\n",
    "    \n",
    "    player_heading = lmap.player_heading\n",
    "    \n",
    "    for i in range(len(path) - 1):\n",
    "    \n",
    "        move = list( map(sub, path[i], path[i+1]))\n",
    "        if move == [0, 1]:\n",
    "            \n",
    "            if player_heading == UP :\n",
    "                #print('left')\n",
    "                moves_list.append('l')\n",
    "                player_heading = 2\n",
    "                #print('forward')\n",
    "                moves_list.append('f')\n",
    "            elif player_heading == DOWN :\n",
    "                #print('right')\n",
    "                moves_list.append('r')\n",
    "                player_heading = 2\n",
    "                \n",
    "                #print('forward')\n",
    "                moves_list.append('f')\n",
    "            elif player_heading == LEFT :\n",
    "                player_heading = 2\n",
    "                \n",
    "                #print('forward')\n",
    "                moves_list.append('f')\n",
    "            elif player_heading == RIGHT :\n",
    "                #print('left')\n",
    "                moves_list.append('l')\n",
    "                player_heading = 2\n",
    "                #print('left')\n",
    "                moves_list.append('l')\n",
    "                #print('forward')\n",
    "                moves_list.append('f')\n",
    "            \n",
    "            \n",
    "        elif move == [0, -1]:\n",
    "            \n",
    "            if player_heading == UP :\n",
    "                #print('right')\n",
    "                moves_list.append('r')\n",
    "                player_heading = 3\n",
    "                #print('forward')\n",
    "                moves_list.append('f')\n",
    "            elif player_heading == DOWN :\n",
    "                #print('left')\n",
    "                moves_list.append('l')\n",
    "                player_heading = 3\n",
    "                #print('forward')\n",
    "                moves_list.append('f')\n",
    "            elif player_heading == LEFT :\n",
    "                #print('left')\n",
    "                moves_list.append('l')\n",
    "                #print('left')\n",
    "                moves_list.append('l')\n",
    "                player_heading = 3\n",
    "                #print('forward')\n",
    "                moves_list.append('f')\n",
    "            elif player_heading == RIGHT :\n",
    "                #print('forward')\n",
    "                moves_list.append('f')\n",
    "            \n",
    "            \n",
    "            \n",
    "        elif move == [1, 0]:\n",
    "            \n",
    "            if player_heading == UP :\n",
    "                #print('forward')\n",
    "                moves_list.append('f')\n",
    "            elif player_heading == DOWN :\n",
    "                #print('left')\n",
    "                moves_list.append('l')\n",
    "                #print('left')\n",
    "                moves_list.append('l')\n",
    "                player_heading = 0\n",
    "                #print('forward')\n",
    "                moves_list.append('f')\n",
    "            elif player_heading == LEFT :\n",
    "                #print('right')\n",
    "                moves_list.append('r')\n",
    "                player_heading = 0\n",
    "                #print('forward')\n",
    "                moves_list.append('f')\n",
    "            elif player_heading == RIGHT :\n",
    "                #print('left')\n",
    "                moves_list.append('l')\n",
    "                player_heading = 0\n",
    "                #print('forward')\n",
    "                moves_list.append('f')\n",
    "            \n",
    "            \n",
    "        elif move == [-1,0]:\n",
    "            \n",
    "            if player_heading == UP :\n",
    "                #print('left')\n",
    "                moves_list.append('l')\n",
    "                #print('left')\n",
    "                moves_list.append('l')\n",
    "                player_heading = 1\n",
    "                #print('forward')\n",
    "                moves_list.append('f')\n",
    "            elif player_heading == DOWN :\n",
    "                #print('forward')\n",
    "                moves_list.append('f')\n",
    "            elif player_heading == LEFT :\n",
    "                #print('left')\n",
    "                moves_list.append('l')\n",
    "                player_heading = 1\n",
    "                #print('forward')\n",
    "                moves_list.append('f')\n",
    "            elif player_heading == RIGHT :\n",
    "                #print('right')\n",
    "                moves_list.append('r')\n",
    "                player_heading = 1\n",
    "                #print('forward')\n",
    "                moves_list.append('f')\n",
    "    return moves_list\n",
    "    \n",
    "        \n",
    "        \n",
    "    "
   ]
  },
  {
   "cell_type": "code",
   "execution_count": 225,
   "metadata": {},
   "outputs": [
    {
     "ename": "TypeError",
     "evalue": "'NoneType' object is not iterable",
     "output_type": "error",
     "traceback": [
      "\u001b[1;31m---------------------------------------------------------------------------\u001b[0m",
      "\u001b[1;31mTypeError\u001b[0m                                 Traceback (most recent call last)",
      "\u001b[1;32m<ipython-input-225-884a247893a9>\u001b[0m in \u001b[0;36m<module>\u001b[1;34m\u001b[0m\n\u001b[1;32m----> 1\u001b[1;33m \u001b[0mget_moves\u001b[0m\u001b[1;33m(\u001b[0m\u001b[0mmap2\u001b[0m\u001b[1;33m,\u001b[0m \u001b[1;33m[\u001b[0m\u001b[1;36m7\u001b[0m\u001b[1;33m,\u001b[0m\u001b[1;36m2\u001b[0m\u001b[1;33m]\u001b[0m\u001b[1;33m,\u001b[0m \u001b[1;33m[\u001b[0m\u001b[1;36m1\u001b[0m\u001b[1;33m,\u001b[0m\u001b[1;36m7\u001b[0m\u001b[1;33m]\u001b[0m\u001b[1;33m)\u001b[0m\u001b[1;33m\u001b[0m\u001b[1;33m\u001b[0m\u001b[0m\n\u001b[0m",
      "\u001b[1;32m<ipython-input-195-f0f141c2fca7>\u001b[0m in \u001b[0;36mget_moves\u001b[1;34m(lmap, start, end)\u001b[0m\n\u001b[0;32m      1\u001b[0m \u001b[1;32mdef\u001b[0m \u001b[0mget_moves\u001b[0m\u001b[1;33m(\u001b[0m\u001b[0mlmap\u001b[0m\u001b[1;33m,\u001b[0m \u001b[0mstart\u001b[0m\u001b[1;33m,\u001b[0m \u001b[0mend\u001b[0m\u001b[1;33m)\u001b[0m\u001b[1;33m:\u001b[0m\u001b[1;33m\u001b[0m\u001b[1;33m\u001b[0m\u001b[0m\n\u001b[0;32m      2\u001b[0m \u001b[1;33m\u001b[0m\u001b[0m\n\u001b[1;32m----> 3\u001b[1;33m     \u001b[0mpath\u001b[0m \u001b[1;33m=\u001b[0m \u001b[0mBFS\u001b[0m\u001b[1;33m(\u001b[0m\u001b[0mlmap\u001b[0m\u001b[1;33m,\u001b[0m \u001b[0mstart\u001b[0m\u001b[1;33m,\u001b[0m \u001b[0mend\u001b[0m\u001b[1;33m)\u001b[0m\u001b[1;33m\u001b[0m\u001b[1;33m\u001b[0m\u001b[0m\n\u001b[0m\u001b[0;32m      4\u001b[0m \u001b[1;33m\u001b[0m\u001b[0m\n\u001b[0;32m      5\u001b[0m     \u001b[1;32mif\u001b[0m \u001b[0mpath\u001b[0m \u001b[1;32mis\u001b[0m \u001b[1;32mNone\u001b[0m\u001b[1;33m:\u001b[0m\u001b[1;33m\u001b[0m\u001b[1;33m\u001b[0m\u001b[0m\n",
      "\u001b[1;32m<ipython-input-224-32be1d7443d2>\u001b[0m in \u001b[0;36mBFS\u001b[1;34m(lmap, start, goal)\u001b[0m\n\u001b[0;32m    110\u001b[0m                     \u001b[0mnext\u001b[0m \u001b[1;33m=\u001b[0m \u001b[0mfind_teleport\u001b[0m\u001b[1;33m(\u001b[0m\u001b[0mlmap\u001b[0m\u001b[1;33m,\u001b[0m\u001b[0mnext\u001b[0m\u001b[1;33m)\u001b[0m\u001b[1;33m\u001b[0m\u001b[1;33m\u001b[0m\u001b[0m\n\u001b[0;32m    111\u001b[0m \u001b[1;33m\u001b[0m\u001b[0m\n\u001b[1;32m--> 112\u001b[1;33m             \u001b[1;32mif\u001b[0m \u001b[0mtuple\u001b[0m\u001b[1;33m(\u001b[0m\u001b[0mnext\u001b[0m\u001b[1;33m)\u001b[0m \u001b[1;32mnot\u001b[0m \u001b[1;32min\u001b[0m \u001b[0mpath\u001b[0m\u001b[1;33m:\u001b[0m\u001b[1;33m\u001b[0m\u001b[1;33m\u001b[0m\u001b[0m\n\u001b[0m\u001b[0;32m    113\u001b[0m                 \u001b[0mfrontier\u001b[0m\u001b[1;33m.\u001b[0m\u001b[0mappend\u001b[0m\u001b[1;33m(\u001b[0m\u001b[0mtuple\u001b[0m\u001b[1;33m(\u001b[0m\u001b[0mnext\u001b[0m\u001b[1;33m)\u001b[0m\u001b[1;33m)\u001b[0m\u001b[1;33m\u001b[0m\u001b[1;33m\u001b[0m\u001b[0m\n\u001b[0;32m    114\u001b[0m                 \u001b[0mbacktrack\u001b[0m\u001b[1;33m[\u001b[0m\u001b[0mtuple\u001b[0m\u001b[1;33m(\u001b[0m\u001b[0mnext\u001b[0m\u001b[1;33m)\u001b[0m\u001b[1;33m]\u001b[0m \u001b[1;33m=\u001b[0m \u001b[0mtuple\u001b[0m\u001b[1;33m(\u001b[0m\u001b[0mcurrent\u001b[0m\u001b[1;33m)\u001b[0m\u001b[1;33m\u001b[0m\u001b[1;33m\u001b[0m\u001b[0m\n",
      "\u001b[1;31mTypeError\u001b[0m: 'NoneType' object is not iterable"
     ]
    }
   ],
   "source": [
    "get_moves(map2, [7,2], [1,7])\n"
   ]
  },
  {
   "cell_type": "code",
   "execution_count": 221,
   "metadata": {},
   "outputs": [],
   "source": [
    "def find_teleport(lmap,curr):\n",
    "    next_x = curr[1]\n",
    "    next_y = curr[0]\n",
    "    \n",
    "    self = lmap\n",
    "    \n",
    "    if self.grid_data[next_y][next_x] == self.TELEPORT_SYMBOL:\n",
    "        # handle teleport - find the other teleporter\n",
    "        tpy, tpx = (None, None)\n",
    "        for i in range(self.y_size):\n",
    "            for j in range(self.x_size):\n",
    "                if self.grid_data[i][j] == self.TELEPORT_SYMBOL and i != next_y and j != next_x:\n",
    "                    tpy, tpx = (i, j)\n",
    "                    break\n",
    "            if tpy is not None:\n",
    "                break\n",
    "        if tpy is None:\n",
    "            raise Exception(\"LaserTank Map Error: Unmatched teleport symbol\")\n",
    "        next_y, next_x = (tpy, tpx)\n",
    "        return curr\n",
    "    "
   ]
  },
  {
   "cell_type": "code",
   "execution_count": null,
   "metadata": {},
   "outputs": [],
   "source": [
    "    if self.grid_data[next_y][next_x] == self.TELEPORT_SYMBOL:\n",
    "        # handle teleport - find the other teleporter\n",
    "        tpy, tpx = (None, None)\n",
    "        for i in range(self.y_size):\n",
    "            for j in range(self.x_size):\n",
    "                if self.grid_data[i][j] == self.TELEPORT_SYMBOL and i != next_y and j != next_x:\n",
    "                    tpy, tpx = (i, j)\n",
    "                    break\n",
    "            if tpy is not None:\n",
    "                break\n",
    "        if tpy is None:\n",
    "            raise Exception(\"LaserTank Map Error: Unmatched teleport symbol\")\n",
    "        next_y, next_x = (tpy, tpx)"
   ]
  },
  {
   "cell_type": "code",
   "execution_count": 220,
   "metadata": {},
   "outputs": [],
   "source": [
    "find_teleport(map2,[1,1])"
   ]
  },
  {
   "cell_type": "code",
   "execution_count": 119,
   "metadata": {},
   "outputs": [],
   "source": [
    "abc.insert(-1,5)"
   ]
  },
  {
   "cell_type": "code",
   "execution_count": 120,
   "metadata": {},
   "outputs": [
    {
     "data": {
      "text/plain": [
       "[1, 2, 3, 4, 5, 6, 1, 7, 5, 8]"
      ]
     },
     "execution_count": 120,
     "metadata": {},
     "output_type": "execute_result"
    }
   ],
   "source": [
    "abc"
   ]
  },
  {
   "cell_type": "code",
   "execution_count": 209,
   "metadata": {},
   "outputs": [
    {
     "name": "stdout",
     "output_type": "stream",
     "text": [
      "XXXXXXXXXXXXXXXXXXXXXXXXXXX\n",
      "XXX(T)                F XXX\n",
      "XXX   XXXXXXXXXXXXXXXXXXXXX\n",
      "XXX                     XXX\n",
      "XXXXXXXXXXXX   XXXXXXXXXXXX\n",
      "XXX            XXXXXXXXXXXX\n",
      "XXX   XXXXXXXXXXXXXXXXXXXXX\n",
      "XXX(T)               [^]XXX\n",
      "XXXXXXXXXXXXXXXXXXXXXXXXXXX\n",
      "\n",
      "\n",
      "\n",
      "\n",
      "\n",
      "\n",
      "\n",
      "\n",
      "\n",
      "\n",
      "\n",
      "\n"
     ]
    }
   ],
   "source": [
    "map2.render()"
   ]
  },
  {
   "cell_type": "code",
   "execution_count": 211,
   "metadata": {},
   "outputs": [
    {
     "data": {
      "text/plain": [
       "['l',\n",
       " 'f',\n",
       " 'f',\n",
       " 'f',\n",
       " 'f',\n",
       " 'f',\n",
       " 'f',\n",
       " 'r',\n",
       " 'f',\n",
       " 'f',\n",
       " 'r',\n",
       " 'f',\n",
       " 'f',\n",
       " 'f',\n",
       " 'l',\n",
       " 'f',\n",
       " 'f',\n",
       " 'l',\n",
       " 'f',\n",
       " 'f',\n",
       " 'f',\n",
       " 'r',\n",
       " 'f',\n",
       " 'f',\n",
       " 'r',\n",
       " 'f',\n",
       " 'f',\n",
       " 'f',\n",
       " 'f',\n",
       " 'f',\n",
       " 'f']"
      ]
     },
     "execution_count": 211,
     "metadata": {},
     "output_type": "execute_result"
    }
   ],
   "source": [
    "get_moves(map2, [7,7], [1,7])"
   ]
  }
 ],
 "metadata": {
  "kernelspec": {
   "display_name": "Python 3",
   "language": "python",
   "name": "python3"
  },
  "language_info": {
   "codemirror_mode": {
    "name": "ipython",
    "version": 3
   },
   "file_extension": ".py",
   "mimetype": "text/x-python",
   "name": "python",
   "nbconvert_exporter": "python",
   "pygments_lexer": "ipython3",
   "version": "3.7.7"
  }
 },
 "nbformat": 4,
 "nbformat_minor": 4
}
