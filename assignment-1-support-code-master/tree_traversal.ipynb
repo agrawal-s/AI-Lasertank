{
 "cells": [
  {
   "cell_type": "code",
   "execution_count": 82,
   "metadata": {},
   "outputs": [],
   "source": [
    "class Node(object):\n",
    "    def __init__(self,value):\n",
    "        self.value = value\n",
    "        self.child = []\n",
    "        \n",
    "#\n",
    "\n",
    "class Tree(object):\n",
    "    def __init__(self,root):\n",
    "        self.root = root\n"
   ]
  },
  {
   "cell_type": "code",
   "execution_count": 83,
   "metadata": {},
   "outputs": [],
   "source": [
    "\n",
    "rootnode = Node('00')\n",
    "child_01 = Node('01')\n",
    "child_02 = Node('02')\n",
    "child_03 = Node('03')\n",
    "child_04 = Node('04')\n",
    "\n",
    "\n",
    "child_11  = Node('11')\n",
    "child_12  = Node('12')\n",
    "child_21  = Node('21')\n",
    "child_22  = Node('22')\n",
    "\n",
    "child_31  = Node('31')\n",
    "child_41  = Node('41')\n",
    "\n",
    "\n",
    "\n",
    "tree1 = Tree(rootnode)\n",
    "\n",
    "\n",
    "\n"
   ]
  },
  {
   "cell_type": "code",
   "execution_count": 21,
   "metadata": {},
   "outputs": [],
   "source": [
    "tree1.root.child.append(child_01)\n",
    "tree1.root.child.append(child_02)\n",
    "tree1.root.child.append(child_03)\n",
    "tree1.root.child.append(child_04)"
   ]
  },
  {
   "cell_type": "code",
   "execution_count": 22,
   "metadata": {},
   "outputs": [],
   "source": [
    "tree1.root.child[0].child.append(child_11)\n",
    "tree1.root.child[0].child.append(child_12)\n",
    "tree1.root.child[1].child.append(child_21)\n",
    "tree1.root.child[1].child.append(child_22)\n"
   ]
  },
  {
   "cell_type": "code",
   "execution_count": 23,
   "metadata": {},
   "outputs": [],
   "source": [
    "tree1.root.child[2].child.append(child_31)\n",
    "tree1.root.child[3].child.append(child_41)"
   ]
  },
  {
   "cell_type": "code",
   "execution_count": 24,
   "metadata": {},
   "outputs": [
    {
     "name": "stdout",
     "output_type": "stream",
     "text": [
      "11\n",
      "12\n"
     ]
    }
   ],
   "source": [
    "curr_node = tree1.root.child[0]\n",
    "for children in curr_node.child:\n",
    "    print(children.value)"
   ]
  },
  {
   "cell_type": "code",
   "execution_count": 25,
   "metadata": {},
   "outputs": [],
   "source": [
    "def get_child_0(node):\n",
    "    return node.child[0]\n",
    "\n",
    "    "
   ]
  },
  {
   "cell_type": "code",
   "execution_count": 30,
   "metadata": {},
   "outputs": [
    {
     "name": "stdout",
     "output_type": "stream",
     "text": [
      "current level =  0\n",
      "Node_name:  00\n",
      "current level =  0\n",
      "Node_name:  01\n",
      "current level =  1\n",
      "Node_name:  11\n"
     ]
    },
    {
     "ename": "IndexError",
     "evalue": "list index out of range",
     "output_type": "error",
     "traceback": [
      "\u001b[1;31m---------------------------------------------------------------------------\u001b[0m",
      "\u001b[1;31mIndexError\u001b[0m                                Traceback (most recent call last)",
      "\u001b[1;32m<ipython-input-30-0df37e5b8575>\u001b[0m in \u001b[0;36m<module>\u001b[1;34m\u001b[0m\n\u001b[0;32m      4\u001b[0m     \u001b[0mprint\u001b[0m\u001b[1;33m(\u001b[0m\u001b[1;34m'current level = '\u001b[0m\u001b[1;33m,\u001b[0m\u001b[0mlevel\u001b[0m\u001b[1;33m)\u001b[0m\u001b[1;33m\u001b[0m\u001b[1;33m\u001b[0m\u001b[0m\n\u001b[0;32m      5\u001b[0m     \u001b[0mprint\u001b[0m\u001b[1;33m(\u001b[0m\u001b[1;34m'Node_name: '\u001b[0m\u001b[1;33m,\u001b[0m\u001b[0mcurr_node\u001b[0m\u001b[1;33m.\u001b[0m\u001b[0mvalue\u001b[0m\u001b[1;33m)\u001b[0m\u001b[1;33m\u001b[0m\u001b[1;33m\u001b[0m\u001b[0m\n\u001b[1;32m----> 6\u001b[1;33m     \u001b[0mcurr_node\u001b[0m \u001b[1;33m=\u001b[0m \u001b[0mcurr_node\u001b[0m\u001b[1;33m.\u001b[0m\u001b[0mchild\u001b[0m\u001b[1;33m[\u001b[0m\u001b[1;36m0\u001b[0m\u001b[1;33m]\u001b[0m\u001b[1;33m\u001b[0m\u001b[1;33m\u001b[0m\u001b[0m\n\u001b[0m\u001b[0;32m      7\u001b[0m     \u001b[1;32mif\u001b[0m \u001b[1;32mnot\u001b[0m \u001b[0mcurr_node\u001b[0m\u001b[1;33m.\u001b[0m\u001b[0mchild\u001b[0m\u001b[1;33m:\u001b[0m\u001b[1;33m\u001b[0m\u001b[1;33m\u001b[0m\u001b[0m\n\u001b[0;32m      8\u001b[0m \u001b[1;33m\u001b[0m\u001b[0m\n",
      "\u001b[1;31mIndexError\u001b[0m: list index out of range"
     ]
    }
   ],
   "source": [
    "curr_node = tree1.root\n",
    "level = 0\n",
    "while curr_node is not None:\n",
    "    print('current level = ',level)\n",
    "    print('Node_name: ',curr_node.value)\n",
    "    \n",
    "    if not curr_node.child: \n",
    "        level+=1\n",
    "    "
   ]
  },
  {
   "cell_type": "code",
   "execution_count": 28,
   "metadata": {},
   "outputs": [
    {
     "name": "stdout",
     "output_type": "stream",
     "text": [
      "False\n"
     ]
    }
   ],
   "source": [
    "abc = []\n",
    "\n",
    "print([] == None)"
   ]
  },
  {
   "cell_type": "code",
   "execution_count": 46,
   "metadata": {},
   "outputs": [],
   "source": [
    "# preorder traversal\n",
    "\n",
    "class PreDFSTree(object):\n",
    "    def __init__(self,root):\n",
    "        self.root = root\n",
    "        \n",
    "    def preorder_traversal(self, start, traversal):\n",
    "        \"\"\" Root -> Left -> Right\n",
    "            start = node that will be updated with every recursion\n",
    "            traversal = string that will be append the value of every node\n",
    "        \n",
    "        \n",
    "        \"\"\"\n",
    "        \n",
    "        if start:\n",
    "            traversal += (str(start.value) + '--')\n",
    "            for node in start.child:\n",
    "                traversal = self.preorder_traversal(node,traversal)\n",
    "            return traversal\n",
    "    #\n",
    "    \n",
    "    def postorder_traversal(self, start, traversal):\n",
    "        \"\"\"\n",
    "        Left -> Right -> Root\n",
    "        \"\"\"\n",
    "        if start:\n",
    "            for node in start.child:\n",
    "                traversal = self.postorder_traversal(node, traversal)\n",
    "            traversal += (str(start.value) + '--')\n",
    "        return traversal\n",
    "            \n",
    "        \n",
    "    \n",
    "    def print_tree(self,traversal_type):\n",
    "        if(traversal_type == 'preorder'):\n",
    "            return self.preorder_traversal(self.root, '')\n",
    "        elif(traversal_type == 'postorder'):\n",
    "            return self.postorder_traversal(self.root, '')\n",
    "        \n",
    "        else:\n",
    "            print('traversal type not supported.')\n",
    "            return False\n",
    "        \n",
    "            \n",
    "            "
   ]
  },
  {
   "cell_type": "code",
   "execution_count": 84,
   "metadata": {},
   "outputs": [],
   "source": [
    "\n",
    "rootnode = Node('00')\n",
    "child_01 = Node('01')\n",
    "child_02 = Node('02')\n",
    "child_03 = Node('03')\n",
    "child_04 = Node('04')\n",
    "\n",
    "\n",
    "child_11  = Node('11')\n",
    "child_12  = Node('12')\n",
    "child_21  = Node('21')\n",
    "child_22  = Node('22')\n",
    "\n",
    "child_31  = Node('31')\n",
    "child_41  = Node('41')\n",
    "\n",
    "\n",
    "\n",
    "tree1 = PreDFSTree(rootnode)\n",
    "\n",
    "\n",
    "tree1.root.child.append(child_01)\n",
    "tree1.root.child.append(child_02)\n",
    "tree1.root.child.append(child_03)\n",
    "tree1.root.child.append(child_04)\n",
    "\n",
    "\n",
    "tree1.root.child[0].child.append(child_11)\n",
    "tree1.root.child[0].child.append(child_12)\n",
    "tree1.root.child[1].child.append(child_21)\n",
    "tree1.root.child[1].child.append(child_22)\n",
    "\n",
    "tree1.root.child[2].child.append(child_31)\n",
    "tree1.root.child[3].child.append(child_41)"
   ]
  },
  {
   "cell_type": "code",
   "execution_count": 49,
   "metadata": {},
   "outputs": [
    {
     "name": "stdout",
     "output_type": "stream",
     "text": [
      "00--01--11--12--02--21--22--03--31--04--41--\n",
      "11--12--01--21--22--02--31--03--41--04--00--\n"
     ]
    }
   ],
   "source": [
    "print(tree1.print_tree('preorder'))\n",
    "print(tree1.print_tree('postorder'))"
   ]
  },
  {
   "cell_type": "code",
   "execution_count": 70,
   "metadata": {},
   "outputs": [],
   "source": [
    "class Queue(object):\n",
    "    def __init__(self):\n",
    "        self.items = []\n",
    "    #\n",
    "    \n",
    "    def enqueue(self, item):\n",
    "        self.items.insert(0,item)\n",
    "    \n",
    "    def dequeue(self):\n",
    "        if not self.is_empty():\n",
    "            return self.items.pop()\n",
    "    \n",
    "    def is_empty(self):\n",
    "        return len(self.items) == 0\n",
    "    \n",
    "    def peek(self):\n",
    "        if not self.is_empty():\n",
    "            return self.items[-1].value\n",
    "    \n",
    "    def __len__(self):\n",
    "\n",
    "        return self.size()\n",
    "    \n",
    "    def size(self):\n",
    "        return len(self.items)\n",
    "    \n",
    "# End of Class Definition\n",
    "\n",
    "class Stack(object):\n",
    "    \n",
    "    def __init__(self):\n",
    "        self.items = []\n",
    "    #\n",
    "    \n",
    "    def push(self, item):\n",
    "        self.items.append(item)\n",
    "    \n",
    "    def pop(self):\n",
    "        if not self.is_empty():\n",
    "            return self.items.pop()\n",
    "    \n",
    "    def is_empty(self):\n",
    "        return len(self.items) == 0\n",
    "    \n",
    "    def peek(self):\n",
    "        if not self.is_empty():\n",
    "            return self.items[-1].value\n",
    "    \n",
    "    def __len__(self):\n",
    "\n",
    "        return self.size()\n",
    "    \n",
    "    def size(self):\n",
    "        return len(self.items)\n",
    "\n",
    "    "
   ]
  },
  {
   "cell_type": "code",
   "execution_count": null,
   "metadata": {},
   "outputs": [],
   "source": []
  },
  {
   "cell_type": "code",
   "execution_count": 51,
   "metadata": {},
   "outputs": [
    {
     "name": "stdout",
     "output_type": "stream",
     "text": [
      "7\n",
      "1\n",
      "7\n"
     ]
    }
   ],
   "source": [
    "abc = [1,2,3,4,5,6,7]\n",
    "\n",
    "a = abc.pop()\n",
    "print(a)\n",
    "\n",
    "abc = [1,2,3,4,5,6,7]\n",
    "a = abc.pop(0)\n",
    "print(a)\n",
    "\n",
    "abc = [1,2,3,4,5,6,7]\n",
    "peek = abc[-1]\n",
    "print(peek)\n",
    "\n"
   ]
  },
  {
   "cell_type": "code",
   "execution_count": 67,
   "metadata": {},
   "outputs": [],
   "source": [
    "# BFS traversal\n",
    "\n",
    "\n",
    "class BFSTree(object):\n",
    "    def __init__(self,root):\n",
    "        self.root = root\n",
    "        \n",
    "    def bfs_traversal(self, start):\n",
    "        if start is None:\n",
    "            return\n",
    "        \n",
    "        queue = Queue()\n",
    "        queue.enqueue(start)\n",
    "        \n",
    "        traversal = ''\n",
    "        \n",
    "        while len(queue) > 0:\n",
    "            traversal += (str(queue.peek()) + '--')\n",
    "            node = queue.dequeue()\n",
    "            if node.child:\n",
    "                for children in node.child:\n",
    "                    queue.enqueue(children)\n",
    "        \n",
    "        return traversal\n",
    "                \n",
    "            \n",
    "        \n",
    "    \n",
    "    def print_tree(self,traversal_type):\n",
    "        if(traversal_type == 'preorder'):\n",
    "            return self.preorder_traversal(self.root, '')\n",
    "        elif(traversal_type == 'postorder'):\n",
    "            return self.postorder_traversal(self.root, '')\n",
    "        elif(traversal_type == 'BFS'):\n",
    "            return self.bfs_traversal(self.root)\n",
    "        \n",
    "        else:\n",
    "            print('traversal type not supported.')\n",
    "            return False\n",
    "        \n",
    "        "
   ]
  },
  {
   "cell_type": "code",
   "execution_count": 55,
   "metadata": {},
   "outputs": [
    {
     "name": "stdout",
     "output_type": "stream",
     "text": [
      "True\n"
     ]
    }
   ],
   "source": [
    "a = [1]\n",
    "\n",
    "if a:\n",
    "    print(True)\n",
    "else:\n",
    "    print(False)"
   ]
  },
  {
   "cell_type": "code",
   "execution_count": 97,
   "metadata": {},
   "outputs": [],
   "source": [
    "\n",
    "rootnode = Node('00')\n",
    "child_01 = Node('01')\n",
    "child_02 = Node('02')\n",
    "child_03 = Node('03')\n",
    "child_04 = Node('04')\n",
    "\n",
    "\n",
    "child_11  = Node('11')\n",
    "child_12  = Node('12')\n",
    "child_21  = Node('21')\n",
    "child_22  = Node('22')\n",
    "\n",
    "child_31  = Node('31')\n",
    "child_41  = Node('41')\n",
    "\n",
    "\n",
    "\n",
    "tree1 = ReverseBFSTree(rootnode)\n",
    "\n",
    "\n",
    "tree1.root.child.append(child_01)\n",
    "tree1.root.child.append(child_02)\n",
    "tree1.root.child.append(child_03)\n",
    "tree1.root.child.append(child_04)\n",
    "\n",
    "\n",
    "tree1.root.child[0].child.append(child_11)\n",
    "tree1.root.child[0].child.append(child_12)\n",
    "tree1.root.child[1].child.append(child_21)\n",
    "tree1.root.child[1].child.append(child_22)\n",
    "\n",
    "tree1.root.child[2].child.append(child_31)\n",
    "tree1.root.child[3].child.append(child_41)"
   ]
  },
  {
   "cell_type": "code",
   "execution_count": 69,
   "metadata": {},
   "outputs": [
    {
     "name": "stdout",
     "output_type": "stream",
     "text": [
      "00--01--02--03--04--11--12--21--22--31--41--\n"
     ]
    }
   ],
   "source": [
    "print(tree1.print_tree('BFS'))"
   ]
  },
  {
   "cell_type": "code",
   "execution_count": 96,
   "metadata": {},
   "outputs": [],
   "source": [
    "# Reverse BFS traversal\n",
    "\n",
    "\n",
    "class ReverseBFSTree(object):\n",
    "    def __init__(self,root):\n",
    "        self.root = root\n",
    "        \n",
    "    def bfs_traversal(self, start):\n",
    "        if start is None:\n",
    "            return\n",
    "        \n",
    "        queue = Queue()\n",
    "        queue.enqueue(start)\n",
    "        \n",
    "        traversal = ''\n",
    "        \n",
    "        while len(queue) > 0:\n",
    "            traversal += (str(queue.peek()) + '--')\n",
    "            node = queue.dequeue()\n",
    "            if node.child:\n",
    "                for children in node.child:\n",
    "                    queue.enqueue(children)\n",
    "        \n",
    "        return traversal\n",
    "                \n",
    "    def reverse_bfs_traversal(self, start):\n",
    "            \n",
    "        if start is None:\n",
    "            return\n",
    "        \n",
    "        queue = Queue()\n",
    "        queue.enqueue(start)\n",
    "        \n",
    "        stack = Stack()\n",
    "        \n",
    "        traversal = ''\n",
    "        \n",
    "        while len(queue) > 0:\n",
    "            node = queue.dequeue()\n",
    "            stack.push(node)\n",
    "            \n",
    "            if node.child:\n",
    "                \n",
    "                for children in node.child[::-1]:\n",
    "                    queue.enqueue(children)\n",
    "                \n",
    "        while len(stack) > 0:\n",
    "            node = stack.pop()\n",
    "            traversal += (str(node.value) + '--')\n",
    "        \n",
    "        return traversal\n",
    "        \n",
    "    \n",
    "    def print_tree(self,traversal_type):\n",
    "        if(traversal_type == 'preorder'):\n",
    "            return self.preorder_traversal(self.root, '')\n",
    "        elif(traversal_type == 'postorder'):\n",
    "            return self.postorder_traversal(self.root, '')\n",
    "        elif(traversal_type == 'BFS'):\n",
    "            return self.bfs_traversal(self.root)\n",
    "        elif(traversal_type == 'RBFS'):\n",
    "            return self.reverse_bfs_traversal(self.root)\n",
    "        \n",
    "        else:\n",
    "            print('traversal type not supported.')\n",
    "            return False\n",
    "        \n",
    "        "
   ]
  },
  {
   "cell_type": "code",
   "execution_count": 98,
   "metadata": {},
   "outputs": [
    {
     "name": "stdout",
     "output_type": "stream",
     "text": [
      "11--12--21--22--31--41--01--02--03--04--00--\n"
     ]
    }
   ],
   "source": [
    "print(tree1.print_tree('RBFS'))"
   ]
  },
  {
   "cell_type": "code",
   "execution_count": 80,
   "metadata": {},
   "outputs": [],
   "source": [
    "abc.reverse()\n",
    "\n"
   ]
  },
  {
   "cell_type": "code",
   "execution_count": 81,
   "metadata": {},
   "outputs": [
    {
     "data": {
      "text/plain": [
       "[7, 6, 5, 4, 3, 2, 1]"
      ]
     },
     "execution_count": 81,
     "metadata": {},
     "output_type": "execute_result"
    }
   ],
   "source": [
    "abc"
   ]
  },
  {
   "cell_type": "code",
   "execution_count": null,
   "metadata": {},
   "outputs": [],
   "source": []
  },
  {
   "cell_type": "code",
   "execution_count": null,
   "metadata": {},
   "outputs": [],
   "source": []
  }
 ],
 "metadata": {
  "kernelspec": {
   "display_name": "Python 3",
   "language": "python",
   "name": "python3"
  },
  "language_info": {
   "codemirror_mode": {
    "name": "ipython",
    "version": 3
   },
   "file_extension": ".py",
   "mimetype": "text/x-python",
   "name": "python",
   "nbconvert_exporter": "python",
   "pygments_lexer": "ipython3",
   "version": "3.7.7"
  }
 },
 "nbformat": 4,
 "nbformat_minor": 4
}
