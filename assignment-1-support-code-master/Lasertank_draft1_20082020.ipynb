{
 "cells": [
  {
   "cell_type": "code",
   "execution_count": 1,
   "metadata": {},
   "outputs": [],
   "source": [
    "obs = 'XXX'\n",
    "wat = 'WWW'\n",
    "bdg = '[B]'\n",
    "bck = '[K]'\n",
    "ice =  '-I-'\n",
    "tlp = '(T)'\n",
    "mir = [' /|', '|\\ ',' \\|', '|/ ']\n",
    "att = ['[U]','[D]','[L]','[R]']\n",
    "plr = ['[^]','[v]','[<]','[>]']\n",
    "lnd = '   '\n",
    "flg = ' F '\n"
   ]
  },
  {
   "cell_type": "code",
   "execution_count": 2,
   "metadata": {},
   "outputs": [
    {
     "data": {
      "text/plain": [
       "[['   ', '   ', '   ', '   ', '   ', '   ', '   ', '   ', '   '],\n",
       " ['   ', '   ', '   ', '   ', '   ', '   ', '   ', '   ', '   '],\n",
       " ['   ', '   ', '   ', '   ', '   ', '   ', '   ', '   ', '   '],\n",
       " ['   ', '   ', '   ', '   ', '   ', '   ', '   ', '   ', '   '],\n",
       " ['   ', '   ', '   ', '   ', '   ', '   ', '   ', '   ', '   '],\n",
       " ['   ', '   ', '   ', '   ', '   ', '   ', '   ', '   ', '   '],\n",
       " ['   ', '   ', '   ', '   ', '   ', '   ', '   ', '   ', '   '],\n",
       " ['   ', '   ', '   ', '   ', '   ', '   ', '   ', '   ', '   '],\n",
       " ['   ', '   ', '   ', '   ', '   ', '   ', '   ', '   ', '   ']]"
      ]
     },
     "execution_count": 2,
     "metadata": {},
     "output_type": "execute_result"
    }
   ],
   "source": [
    "board =[[lnd]*9]*9\n",
    "board"
   ]
  },
  {
   "cell_type": "code",
   "execution_count": 3,
   "metadata": {},
   "outputs": [],
   "source": [
    "def print_board(board):\n",
    "    #print ('___'*12)\n",
    "    for line in board:\n",
    "        print (' '.join(line))\n",
    "        print ('')\n",
    "        \n"
   ]
  },
  {
   "cell_type": "code",
   "execution_count": 4,
   "metadata": {},
   "outputs": [],
   "source": [
    "board =[[lnd]*9]*9\n",
    "board[0] = [obs,obs,obs,obs,obs,obs,obs,obs,obs]\n",
    "board[1] = [obs,lnd,lnd,lnd,lnd,lnd,lnd,flg,obs]\n",
    "board[2] = [obs,lnd,obs,obs,obs,obs,obs,obs,obs]\n",
    "board[3] = [obs,lnd,lnd,lnd,lnd,lnd,lnd,lnd,obs]\n",
    "board[4] = [obs,obs,obs,obs,lnd,obs,obs,obs,obs]\n",
    "board[5] = [obs,lnd,lnd,lnd,lnd,obs,obs,obs,obs]\n",
    "board[6] = [obs,lnd,obs,obs,obs,obs,obs,obs,obs]\n",
    "board[7] = [obs,lnd,lnd,lnd,lnd,lnd,lnd,plr[0],obs]\n",
    "board[8] = [obs,obs,obs,obs,obs,obs,obs,obs,obs]\n"
   ]
  },
  {
   "cell_type": "code",
   "execution_count": 5,
   "metadata": {},
   "outputs": [],
   "source": [
    "for line in board:\n",
    "    line[0] = obs\n",
    "    line[8] = obs\n"
   ]
  },
  {
   "cell_type": "code",
   "execution_count": 6,
   "metadata": {},
   "outputs": [
    {
     "name": "stdout",
     "output_type": "stream",
     "text": [
      "XXX XXX XXX XXX XXX XXX XXX XXX XXX\n",
      "\n",
      "XXX                          F  XXX\n",
      "\n",
      "XXX     XXX XXX XXX XXX XXX XXX XXX\n",
      "\n",
      "XXX                             XXX\n",
      "\n",
      "XXX XXX XXX XXX     XXX XXX XXX XXX\n",
      "\n",
      "XXX                 XXX XXX XXX XXX\n",
      "\n",
      "XXX     XXX XXX XXX XXX XXX XXX XXX\n",
      "\n",
      "XXX                         [^] XXX\n",
      "\n",
      "XXX XXX XXX XXX XXX XXX XXX XXX XXX\n",
      "\n"
     ]
    }
   ],
   "source": [
    "print_board(board)\n"
   ]
  },
  {
   "cell_type": "code",
   "execution_count": 7,
   "metadata": {},
   "outputs": [],
   "source": [
    "def turn_left(board):\n",
    "    '''\n",
    "    player direction legend\n",
    "    U = 0\n",
    "    D = 1\n",
    "    L = 2\n",
    "    R = 3\n",
    "    '''\n",
    "    val = '[^]'\n",
    "    idx = [(index, row.index(val)) for index, row in enumerate(board) if val in row]\n",
    "    board[idx[0][0]][idx[0][1]] = plr[2]\n",
    "    return board"
   ]
  },
  {
   "cell_type": "code",
   "execution_count": 8,
   "metadata": {},
   "outputs": [
    {
     "data": {
      "text/plain": [
       "'XXX'"
      ]
     },
     "execution_count": 8,
     "metadata": {},
     "output_type": "execute_result"
    }
   ],
   "source": [
    "board[0][0]"
   ]
  },
  {
   "cell_type": "code",
   "execution_count": 9,
   "metadata": {},
   "outputs": [],
   "source": [
    "val = '[^]' \n",
    "idx = [(index, row.index(val)) for index, row in enumerate(board) if val in row]"
   ]
  },
  {
   "cell_type": "code",
   "execution_count": 10,
   "metadata": {},
   "outputs": [
    {
     "data": {
      "text/plain": [
       "'[^]'"
      ]
     },
     "execution_count": 10,
     "metadata": {},
     "output_type": "execute_result"
    }
   ],
   "source": [
    "board[idx[0][0]][idx[0][1]]"
   ]
  },
  {
   "cell_type": "code",
   "execution_count": 11,
   "metadata": {},
   "outputs": [],
   "source": [
    "new_board = turn_left(board)"
   ]
  },
  {
   "cell_type": "code",
   "execution_count": 12,
   "metadata": {},
   "outputs": [
    {
     "name": "stdout",
     "output_type": "stream",
     "text": [
      "XXX XXX XXX XXX XXX XXX XXX XXX XXX\n",
      "\n",
      "XXX                          F  XXX\n",
      "\n",
      "XXX     XXX XXX XXX XXX XXX XXX XXX\n",
      "\n",
      "XXX                             XXX\n",
      "\n",
      "XXX XXX XXX XXX     XXX XXX XXX XXX\n",
      "\n",
      "XXX                 XXX XXX XXX XXX\n",
      "\n",
      "XXX     XXX XXX XXX XXX XXX XXX XXX\n",
      "\n",
      "XXX                         [<] XXX\n",
      "\n",
      "XXX XXX XXX XXX XXX XXX XXX XXX XXX\n",
      "\n"
     ]
    }
   ],
   "source": [
    "print_board(new_board)"
   ]
  },
  {
   "cell_type": "code",
   "execution_count": 13,
   "metadata": {},
   "outputs": [],
   "source": [
    "class Player:    \n",
    "    '''\n",
    "    player direction legend\n",
    "    U = 0\n",
    "    D = 1\n",
    "    L = 2\n",
    "    R = 3\n",
    "    '''\n",
    "    def __init__(self,pos_x,pos_y,direction):\n",
    "        self.pos_x=pos_x\n",
    "        self.pos_y=pos_y\n",
    "        self.direction=direction\n",
    "    def get_direction(self):\n",
    "        return self.direction\n",
    "    def get_pos_x(self):\n",
    "        return self.pos_x\n",
    "    def get_pos_y(self):\n",
    "        return self.pos_y\n",
    "    \n",
    "    def set_direction(self,direction):\n",
    "        self.direction = direction\n",
    "    def set_pos_x(self, pos_x):\n",
    "        self.pos_x = pos_x\n",
    "    def set_pos_y(self, pos_y):\n",
    "        self.pos_y = pos_y\n",
    "    \n",
    "    \n",
    "    def get_img(self):\n",
    "        if(self.direction == 0):\n",
    "            return '[^]'\n",
    "        elif(self.direction == 1):\n",
    "            return '[v]'\n",
    "        elif(self.direction == 2):\n",
    "            return '[<]'\n",
    "        elif(self.direction == 3):\n",
    "            return '[>]'\n",
    "    \n",
    "    def turn_left(self):\n",
    "        val = self.get_img()\n",
    "        idx = [(index, row.index(val)) for index, row in enumerate(board) if val in row]\n",
    "        self.set_direction(2)\n",
    "        board[idx[0][0]][idx[0][1]] = self.get_img()\n",
    "        \n",
    "    \n",
    "    def turn_right(self):\n",
    "        val = self.get_img()\n",
    "        idx = [(index, row.index(val)) for index, row in enumerate(board) if val in row]\n",
    "        self.set_direction(3)\n",
    "        board[idx[0][0]][idx[0][1]] = self.get_img()\n",
    "    \n",
    "    def turn_up(self):\n",
    "        val = self.get_img()\n",
    "        idx = [(index, row.index(val)) for index, row in enumerate(board) if val in row]\n",
    "        self.set_direction(0)\n",
    "        board[idx[0][0]][idx[0][1]] = self.get_img()\n",
    "        \n",
    "    def turn_down(self):\n",
    "        val = self.get_img()\n",
    "        idx = [(index, row.index(val)) for index, row in enumerate(board) if val in row]\n",
    "        self.set_direction(1)\n",
    "        board[idx[0][0]][idx[0][1]] = self.get_img()\n",
    "    \n",
    "    def forward(self):\n",
    "        direction = self.get_direction()\n",
    "        \n",
    "        if(direction == 0):\n",
    "            self.set_pos_y(self.get_pos_y() - 1)\n",
    "            return\n",
    "        elif(direction == 1):\n",
    "            self.set_pos_y(self.get_pos_y() + 1)\n",
    "            return\n",
    "        elif(direction == 2):\n",
    "            self.set_pos_x(self.get_pos_x() - 1)\n",
    "            return\n",
    "        elif(direction == 3):\n",
    "            self.set_pos_x(self.get_pos_x() + 1)\n",
    "            return\n",
    "        \n",
    "    \n",
    "    \n",
    "    "
   ]
  },
  {
   "cell_type": "code",
   "execution_count": 14,
   "metadata": {},
   "outputs": [],
   "source": [
    "plr1 = Player(7,7,2)"
   ]
  },
  {
   "cell_type": "code",
   "execution_count": 15,
   "metadata": {},
   "outputs": [
    {
     "name": "stdout",
     "output_type": "stream",
     "text": [
      "[>]\n"
     ]
    }
   ],
   "source": [
    "plr1 = Player(7,7,3)\n",
    "dir = plr1.get_img()\n",
    "print(dir)\n"
   ]
  },
  {
   "cell_type": "code",
   "execution_count": 16,
   "metadata": {},
   "outputs": [],
   "source": [
    "board[0] = [obs,obs,obs,obs,obs,obs,obs,obs,obs]\n",
    "board[1] = [obs,lnd,lnd,lnd,lnd,lnd,lnd,flg,obs]\n",
    "board[2] = [obs,lnd,obs,obs,obs,obs,obs,obs,obs]\n",
    "board[3] = [obs,lnd,lnd,lnd,lnd,lnd,lnd,lnd,obs]\n",
    "board[4] = [obs,obs,obs,obs,lnd,obs,obs,obs,obs]\n",
    "board[5] = [obs,lnd,lnd,lnd,lnd,obs,obs,obs,obs]\n",
    "board[6] = [obs,lnd,obs,obs,obs,obs,obs,obs,obs]\n",
    "board[7] = [obs,lnd,lnd,lnd,lnd,lnd,lnd,plr1.get_img(),obs]\n",
    "board[8] = [obs,obs,obs,obs,obs,obs,obs,obs,obs]\n"
   ]
  },
  {
   "cell_type": "code",
   "execution_count": 17,
   "metadata": {},
   "outputs": [
    {
     "name": "stdout",
     "output_type": "stream",
     "text": [
      "XXX XXX XXX XXX XXX XXX XXX XXX XXX\n",
      "\n",
      "XXX                          F  XXX\n",
      "\n",
      "XXX     XXX XXX XXX XXX XXX XXX XXX\n",
      "\n",
      "XXX                             XXX\n",
      "\n",
      "XXX XXX XXX XXX     XXX XXX XXX XXX\n",
      "\n",
      "XXX                 XXX XXX XXX XXX\n",
      "\n",
      "XXX     XXX XXX XXX XXX XXX XXX XXX\n",
      "\n",
      "XXX                         [>] XXX\n",
      "\n",
      "XXX XXX XXX XXX XXX XXX XXX XXX XXX\n",
      "\n"
     ]
    }
   ],
   "source": [
    "print_board(board)"
   ]
  },
  {
   "cell_type": "code",
   "execution_count": 18,
   "metadata": {},
   "outputs": [
    {
     "name": "stdout",
     "output_type": "stream",
     "text": [
      "[^]\n",
      "[v]\n",
      "[<]\n",
      "[>]\n"
     ]
    }
   ],
   "source": [
    "plr1.set_direction(0)\n",
    "print(plr1.get_img())\n",
    "plr1.set_direction(1)\n",
    "print(plr1.get_img())\n",
    "plr1.set_direction(2)\n",
    "print(plr1.get_img())\n",
    "plr1.set_direction(3)\n",
    "print(plr1.get_img())\n"
   ]
  },
  {
   "cell_type": "code",
   "execution_count": 19,
   "metadata": {},
   "outputs": [],
   "source": [
    "plr1.set_direction(2)"
   ]
  },
  {
   "cell_type": "code",
   "execution_count": 20,
   "metadata": {},
   "outputs": [
    {
     "name": "stdout",
     "output_type": "stream",
     "text": [
      "XXX XXX XXX XXX XXX XXX XXX XXX XXX\n",
      "\n",
      "XXX                          F  XXX\n",
      "\n",
      "XXX     XXX XXX XXX XXX XXX XXX XXX\n",
      "\n",
      "XXX                             XXX\n",
      "\n",
      "XXX XXX XXX XXX     XXX XXX XXX XXX\n",
      "\n",
      "XXX                 XXX XXX XXX XXX\n",
      "\n",
      "XXX     XXX XXX XXX XXX XXX XXX XXX\n",
      "\n",
      "XXX                         [v] XXX\n",
      "\n",
      "XXX XXX XXX XXX XXX XXX XXX XXX XXX\n",
      "\n"
     ]
    }
   ],
   "source": [
    "plr1.set_direction(1)\n",
    "board[7][7] = plr1.get_img()\n",
    "print_board(board)"
   ]
  },
  {
   "cell_type": "code",
   "execution_count": 21,
   "metadata": {},
   "outputs": [
    {
     "name": "stdout",
     "output_type": "stream",
     "text": [
      "[<]\n",
      "[>]\n",
      "[^]\n",
      "[v]\n"
     ]
    }
   ],
   "source": [
    "plr1.turn_left()\n",
    "print(plr1.get_img())\n",
    "plr1.turn_right()\n",
    "print(plr1.get_img())\n",
    "plr1.turn_up()\n",
    "print(plr1.get_img())\n",
    "plr1.turn_down()\n",
    "print(plr1.get_img())\n"
   ]
  },
  {
   "cell_type": "code",
   "execution_count": 22,
   "metadata": {},
   "outputs": [
    {
     "name": "stdout",
     "output_type": "stream",
     "text": [
      "[^]\n",
      "4 , 2\n",
      "[^]\n",
      "4 , 1\n"
     ]
    },
    {
     "ename": "IndexError",
     "evalue": "list index out of range",
     "output_type": "error",
     "traceback": [
      "\u001b[1;31m---------------------------------------------------------------------------\u001b[0m",
      "\u001b[1;31mIndexError\u001b[0m                                Traceback (most recent call last)",
      "\u001b[1;32m<ipython-input-22-0801ecb0e8f4>\u001b[0m in \u001b[0;36m<module>\u001b[1;34m\u001b[0m\n\u001b[0;32m      7\u001b[0m \u001b[0mplr1\u001b[0m\u001b[1;33m.\u001b[0m\u001b[0mforward\u001b[0m\u001b[1;33m(\u001b[0m\u001b[1;33m)\u001b[0m\u001b[1;33m\u001b[0m\u001b[1;33m\u001b[0m\u001b[0m\n\u001b[0;32m      8\u001b[0m \u001b[0mprint\u001b[0m\u001b[1;33m(\u001b[0m\u001b[0mplr1\u001b[0m\u001b[1;33m.\u001b[0m\u001b[0mget_pos_x\u001b[0m\u001b[1;33m(\u001b[0m\u001b[1;33m)\u001b[0m\u001b[1;33m,\u001b[0m\u001b[1;34m','\u001b[0m\u001b[1;33m,\u001b[0m\u001b[0mplr1\u001b[0m\u001b[1;33m.\u001b[0m\u001b[0mget_pos_y\u001b[0m\u001b[1;33m(\u001b[0m\u001b[1;33m)\u001b[0m\u001b[1;33m)\u001b[0m\u001b[1;33m\u001b[0m\u001b[1;33m\u001b[0m\u001b[0m\n\u001b[1;32m----> 9\u001b[1;33m \u001b[0mplr1\u001b[0m\u001b[1;33m.\u001b[0m\u001b[0mturn_left\u001b[0m\u001b[1;33m(\u001b[0m\u001b[1;33m)\u001b[0m\u001b[1;33m\u001b[0m\u001b[1;33m\u001b[0m\u001b[0m\n\u001b[0m\u001b[0;32m     10\u001b[0m \u001b[0mplr1\u001b[0m\u001b[1;33m.\u001b[0m\u001b[0mforward\u001b[0m\u001b[1;33m(\u001b[0m\u001b[1;33m)\u001b[0m\u001b[1;33m\u001b[0m\u001b[1;33m\u001b[0m\u001b[0m\n\u001b[0;32m     11\u001b[0m \u001b[0mprint\u001b[0m\u001b[1;33m(\u001b[0m\u001b[0mplr1\u001b[0m\u001b[1;33m.\u001b[0m\u001b[0mget_pos_x\u001b[0m\u001b[1;33m(\u001b[0m\u001b[1;33m)\u001b[0m\u001b[1;33m,\u001b[0m\u001b[1;34m','\u001b[0m\u001b[1;33m,\u001b[0m\u001b[0mplr1\u001b[0m\u001b[1;33m.\u001b[0m\u001b[0mget_pos_y\u001b[0m\u001b[1;33m(\u001b[0m\u001b[1;33m)\u001b[0m\u001b[1;33m)\u001b[0m\u001b[1;33m\u001b[0m\u001b[1;33m\u001b[0m\u001b[0m\n",
      "\u001b[1;32m<ipython-input-13-d222e4daa70b>\u001b[0m in \u001b[0;36mturn_left\u001b[1;34m(self)\u001b[0m\n\u001b[0;32m     40\u001b[0m         \u001b[0midx\u001b[0m \u001b[1;33m=\u001b[0m \u001b[1;33m[\u001b[0m\u001b[1;33m(\u001b[0m\u001b[0mindex\u001b[0m\u001b[1;33m,\u001b[0m \u001b[0mrow\u001b[0m\u001b[1;33m.\u001b[0m\u001b[0mindex\u001b[0m\u001b[1;33m(\u001b[0m\u001b[0mval\u001b[0m\u001b[1;33m)\u001b[0m\u001b[1;33m)\u001b[0m \u001b[1;32mfor\u001b[0m \u001b[0mindex\u001b[0m\u001b[1;33m,\u001b[0m \u001b[0mrow\u001b[0m \u001b[1;32min\u001b[0m \u001b[0menumerate\u001b[0m\u001b[1;33m(\u001b[0m\u001b[0mboard\u001b[0m\u001b[1;33m)\u001b[0m \u001b[1;32mif\u001b[0m \u001b[0mval\u001b[0m \u001b[1;32min\u001b[0m \u001b[0mrow\u001b[0m\u001b[1;33m]\u001b[0m\u001b[1;33m\u001b[0m\u001b[1;33m\u001b[0m\u001b[0m\n\u001b[0;32m     41\u001b[0m         \u001b[0mself\u001b[0m\u001b[1;33m.\u001b[0m\u001b[0mset_direction\u001b[0m\u001b[1;33m(\u001b[0m\u001b[1;36m2\u001b[0m\u001b[1;33m)\u001b[0m\u001b[1;33m\u001b[0m\u001b[1;33m\u001b[0m\u001b[0m\n\u001b[1;32m---> 42\u001b[1;33m         \u001b[0mboard\u001b[0m\u001b[1;33m[\u001b[0m\u001b[0midx\u001b[0m\u001b[1;33m[\u001b[0m\u001b[1;36m0\u001b[0m\u001b[1;33m]\u001b[0m\u001b[1;33m[\u001b[0m\u001b[1;36m0\u001b[0m\u001b[1;33m]\u001b[0m\u001b[1;33m]\u001b[0m\u001b[1;33m[\u001b[0m\u001b[0midx\u001b[0m\u001b[1;33m[\u001b[0m\u001b[1;36m0\u001b[0m\u001b[1;33m]\u001b[0m\u001b[1;33m[\u001b[0m\u001b[1;36m1\u001b[0m\u001b[1;33m]\u001b[0m\u001b[1;33m]\u001b[0m \u001b[1;33m=\u001b[0m \u001b[0mself\u001b[0m\u001b[1;33m.\u001b[0m\u001b[0mget_img\u001b[0m\u001b[1;33m(\u001b[0m\u001b[1;33m)\u001b[0m\u001b[1;33m\u001b[0m\u001b[1;33m\u001b[0m\u001b[0m\n\u001b[0m\u001b[0;32m     43\u001b[0m \u001b[1;33m\u001b[0m\u001b[0m\n\u001b[0;32m     44\u001b[0m \u001b[1;33m\u001b[0m\u001b[0m\n",
      "\u001b[1;31mIndexError\u001b[0m: list index out of range"
     ]
    }
   ],
   "source": [
    "plr1 = Player(7,7,0)\n",
    "plr1.set_pos_x(4)\n",
    "plr1.set_pos_y(2)\n",
    "print(plr1.get_img())\n",
    "print(plr1.get_pos_x(),',',plr1.get_pos_y())\n",
    "print(plr1.get_img())\n",
    "plr1.forward()\n",
    "print(plr1.get_pos_x(),',',plr1.get_pos_y())\n",
    "plr1.turn_left()\n",
    "plr1.forward()\n",
    "print(plr1.get_pos_x(),',',plr1.get_pos_y())\n",
    "plr1.turn_down()\n",
    "plr1.forward()\n",
    "plr1.forward()\n",
    "print(plr1.get_pos_x(),',',plr1.get_pos_y())\n"
   ]
  },
  {
   "cell_type": "code",
   "execution_count": 23,
   "metadata": {},
   "outputs": [
    {
     "name": "stdout",
     "output_type": "stream",
     "text": [
      "2\n"
     ]
    },
    {
     "data": {
      "text/plain": [
       "1"
      ]
     },
     "execution_count": 23,
     "metadata": {},
     "output_type": "execute_result"
    }
   ],
   "source": [
    "print(plr1.get_direction())\n",
    "plr1.get_pos_y()"
   ]
  },
  {
   "cell_type": "code",
   "execution_count": 24,
   "metadata": {},
   "outputs": [],
   "source": [
    "def set_plr_pos(plr,board):\n",
    "    x = plr.get_pos_x()\n",
    "    y = plr.get_pos_y()\n",
    "    val =  plr.get_img() \n",
    "    print(val)\n",
    "    idx = [(index, row.index(val)) for index, row in enumerate(board) if val in row]\n",
    "    board[idx[0][0]][idx[0][1]] = '   '\n",
    "    board[y][x] = plr.get_img()\n",
    "    return\n",
    "\n",
    "    "
   ]
  },
  {
   "cell_type": "code",
   "execution_count": 25,
   "metadata": {},
   "outputs": [
    {
     "name": "stdout",
     "output_type": "stream",
     "text": [
      "[<]\n"
     ]
    },
    {
     "ename": "IndexError",
     "evalue": "list index out of range",
     "output_type": "error",
     "traceback": [
      "\u001b[1;31m---------------------------------------------------------------------------\u001b[0m",
      "\u001b[1;31mIndexError\u001b[0m                                Traceback (most recent call last)",
      "\u001b[1;32m<ipython-input-25-93f66674dfc2>\u001b[0m in \u001b[0;36m<module>\u001b[1;34m\u001b[0m\n\u001b[1;32m----> 1\u001b[1;33m \u001b[0mset_plr_pos\u001b[0m\u001b[1;33m(\u001b[0m\u001b[0mplr1\u001b[0m\u001b[1;33m,\u001b[0m\u001b[0mboard\u001b[0m\u001b[1;33m)\u001b[0m\u001b[1;33m\u001b[0m\u001b[1;33m\u001b[0m\u001b[0m\n\u001b[0m",
      "\u001b[1;32m<ipython-input-24-485fb9a53453>\u001b[0m in \u001b[0;36mset_plr_pos\u001b[1;34m(plr, board)\u001b[0m\n\u001b[0;32m      5\u001b[0m     \u001b[0mprint\u001b[0m\u001b[1;33m(\u001b[0m\u001b[0mval\u001b[0m\u001b[1;33m)\u001b[0m\u001b[1;33m\u001b[0m\u001b[1;33m\u001b[0m\u001b[0m\n\u001b[0;32m      6\u001b[0m     \u001b[0midx\u001b[0m \u001b[1;33m=\u001b[0m \u001b[1;33m[\u001b[0m\u001b[1;33m(\u001b[0m\u001b[0mindex\u001b[0m\u001b[1;33m,\u001b[0m \u001b[0mrow\u001b[0m\u001b[1;33m.\u001b[0m\u001b[0mindex\u001b[0m\u001b[1;33m(\u001b[0m\u001b[0mval\u001b[0m\u001b[1;33m)\u001b[0m\u001b[1;33m)\u001b[0m \u001b[1;32mfor\u001b[0m \u001b[0mindex\u001b[0m\u001b[1;33m,\u001b[0m \u001b[0mrow\u001b[0m \u001b[1;32min\u001b[0m \u001b[0menumerate\u001b[0m\u001b[1;33m(\u001b[0m\u001b[0mboard\u001b[0m\u001b[1;33m)\u001b[0m \u001b[1;32mif\u001b[0m \u001b[0mval\u001b[0m \u001b[1;32min\u001b[0m \u001b[0mrow\u001b[0m\u001b[1;33m]\u001b[0m\u001b[1;33m\u001b[0m\u001b[1;33m\u001b[0m\u001b[0m\n\u001b[1;32m----> 7\u001b[1;33m     \u001b[0mboard\u001b[0m\u001b[1;33m[\u001b[0m\u001b[0midx\u001b[0m\u001b[1;33m[\u001b[0m\u001b[1;36m0\u001b[0m\u001b[1;33m]\u001b[0m\u001b[1;33m[\u001b[0m\u001b[1;36m0\u001b[0m\u001b[1;33m]\u001b[0m\u001b[1;33m]\u001b[0m\u001b[1;33m[\u001b[0m\u001b[0midx\u001b[0m\u001b[1;33m[\u001b[0m\u001b[1;36m0\u001b[0m\u001b[1;33m]\u001b[0m\u001b[1;33m[\u001b[0m\u001b[1;36m1\u001b[0m\u001b[1;33m]\u001b[0m\u001b[1;33m]\u001b[0m \u001b[1;33m=\u001b[0m \u001b[1;34m'   '\u001b[0m\u001b[1;33m\u001b[0m\u001b[1;33m\u001b[0m\u001b[0m\n\u001b[0m\u001b[0;32m      8\u001b[0m     \u001b[0mboard\u001b[0m\u001b[1;33m[\u001b[0m\u001b[0my\u001b[0m\u001b[1;33m]\u001b[0m\u001b[1;33m[\u001b[0m\u001b[0mx\u001b[0m\u001b[1;33m]\u001b[0m \u001b[1;33m=\u001b[0m \u001b[0mplr\u001b[0m\u001b[1;33m.\u001b[0m\u001b[0mget_img\u001b[0m\u001b[1;33m(\u001b[0m\u001b[1;33m)\u001b[0m\u001b[1;33m\u001b[0m\u001b[1;33m\u001b[0m\u001b[0m\n\u001b[0;32m      9\u001b[0m     \u001b[1;32mreturn\u001b[0m\u001b[1;33m\u001b[0m\u001b[1;33m\u001b[0m\u001b[0m\n",
      "\u001b[1;31mIndexError\u001b[0m: list index out of range"
     ]
    }
   ],
   "source": [
    "set_plr_pos(plr1,board)"
   ]
  },
  {
   "cell_type": "code",
   "execution_count": 26,
   "metadata": {},
   "outputs": [],
   "source": [
    "from IPython.display import clear_output\n",
    "import time"
   ]
  },
  {
   "cell_type": "code",
   "execution_count": 27,
   "metadata": {},
   "outputs": [
    {
     "ename": "NameError",
     "evalue": "name 'reset_board' is not defined",
     "output_type": "error",
     "traceback": [
      "\u001b[1;31m---------------------------------------------------------------------------\u001b[0m",
      "\u001b[1;31mNameError\u001b[0m                                 Traceback (most recent call last)",
      "\u001b[1;32m<ipython-input-27-57d4c4fc39e0>\u001b[0m in \u001b[0;36m<module>\u001b[1;34m\u001b[0m\n\u001b[1;32m----> 1\u001b[1;33m \u001b[0mreset_board\u001b[0m\u001b[1;33m(\u001b[0m\u001b[1;33m)\u001b[0m\u001b[1;33m\u001b[0m\u001b[1;33m\u001b[0m\u001b[0m\n\u001b[0m\u001b[0;32m      2\u001b[0m \u001b[0mprint\u001b[0m\u001b[1;33m(\u001b[0m\u001b[1;34m'start'\u001b[0m\u001b[1;33m)\u001b[0m\u001b[1;33m\u001b[0m\u001b[1;33m\u001b[0m\u001b[0m\n\u001b[0;32m      3\u001b[0m \u001b[0mplr1\u001b[0m\u001b[1;33m.\u001b[0m\u001b[0mset_pos_x\u001b[0m\u001b[1;33m(\u001b[0m\u001b[1;36m7\u001b[0m\u001b[1;33m)\u001b[0m\u001b[1;33m\u001b[0m\u001b[1;33m\u001b[0m\u001b[0m\n\u001b[0;32m      4\u001b[0m \u001b[0mplr1\u001b[0m\u001b[1;33m.\u001b[0m\u001b[0mset_pos_y\u001b[0m\u001b[1;33m(\u001b[0m\u001b[1;36m7\u001b[0m\u001b[1;33m)\u001b[0m\u001b[1;33m\u001b[0m\u001b[1;33m\u001b[0m\u001b[0m\n\u001b[0;32m      5\u001b[0m \u001b[1;31m#print(plr1.get_img(), plr1.get_pos_x(), plr1.get_pos_y())\u001b[0m\u001b[1;33m\u001b[0m\u001b[1;33m\u001b[0m\u001b[1;33m\u001b[0m\u001b[0m\n",
      "\u001b[1;31mNameError\u001b[0m: name 'reset_board' is not defined"
     ]
    }
   ],
   "source": [
    "reset_board()\n",
    "print('start')\n",
    "plr1.set_pos_x(7)\n",
    "plr1.set_pos_y(7)\n",
    "#print(plr1.get_img(), plr1.get_pos_x(), plr1.get_pos_y())\n",
    "\n",
    "print_board(board)\n",
    "time.sleep(1)\n",
    "clear_output(wait=True)\n",
    "\n",
    "print('1')\n",
    "plr1.forward()\n",
    "set_plr_pos(plr1,board)\n",
    "\n",
    "print_board(board)\n",
    "time.sleep(1)\n",
    "clear_output(wait=True)\n",
    "\n",
    "print('2')\n",
    "plr1.forward()\n",
    "set_plr_pos(plr1,board)\n",
    "\n",
    "print_board(board)\n",
    "time.sleep(1)\n",
    "clear_output(wait=True)\n",
    "\n",
    "print('3')\n",
    "plr1.forward()\n",
    "set_plr_pos(plr1,board)\n",
    "\n",
    "print_board(board)\n",
    "time.sleep(1)\n",
    "clear_output(wait=True)\n",
    "\n",
    "print('4')\n",
    "plr1.forward()\n",
    "set_plr_pos(plr1,board)\n",
    "\n",
    "print_board(board)\n",
    "time.sleep(1)\n",
    "clear_output(wait=True)\n",
    "\n",
    "print('5')\n",
    "plr1.forward()\n",
    "set_plr_pos(plr1,board)\n",
    "\n",
    "print_board(board)\n",
    "time.sleep(1)\n",
    "clear_output(wait=True)\n",
    "\n",
    "print('6')\n",
    "plr1.forward()\n",
    "set_plr_pos(plr1,board)\n",
    "\n",
    "print_board(board)\n",
    "time.sleep(1)\n",
    "clear_output(wait=True)\n",
    "\n",
    "print('7')\n",
    "plr1.turn_up()\n",
    "set_plr_pos(plr1,board)\n",
    "\n",
    "print_board(board)\n",
    "time.sleep(1)\n",
    "clear_output(wait=True)\n",
    "\n",
    "print('8')\n",
    "plr1.forward()\n",
    "set_plr_pos(plr1,board)\n",
    "\n",
    "print_board(board)\n",
    "time.sleep(1)\n",
    "clear_output(wait=True)\n",
    "\n",
    "print('9')\n",
    "plr1.forward()\n",
    "set_plr_pos(plr1,board)\n",
    "\n",
    "print_board(board)\n",
    "time.sleep(1)\n",
    "clear_output(wait=True)\n",
    "\n",
    "print('10')\n",
    "plr1.turn_right()\n",
    "set_plr_pos(plr1,board)\n",
    "\n",
    "print_board(board)\n",
    "time.sleep(1)\n",
    "clear_output(wait=True)\n",
    "\n",
    "print('11')\n",
    "plr1.forward()\n",
    "set_plr_pos(plr1,board)\n",
    "\n",
    "print_board(board)\n",
    "time.sleep(1)\n",
    "clear_output(wait=True)\n",
    "\n",
    "print('12')\n",
    "plr1.forward()\n",
    "set_plr_pos(plr1,board)\n",
    "\n",
    "print_board(board)\n",
    "time.sleep(1)\n",
    "clear_output(wait=True)\n",
    "\n",
    "print('13')\n",
    "plr1.forward()\n",
    "set_plr_pos(plr1,board)\n",
    "\n",
    "print_board(board)\n",
    "time.sleep(1)\n",
    "clear_output(wait=True)\n",
    "\n",
    "print('14')\n",
    "plr1.turn_up()\n",
    "set_plr_pos(plr1,board)\n",
    "\n",
    "print_board(board)\n",
    "time.sleep(1)\n",
    "#clear_output(wait=True)\n",
    "\n",
    "\n",
    "\n"
   ]
  },
  {
   "cell_type": "code",
   "execution_count": 28,
   "metadata": {},
   "outputs": [],
   "source": [
    "def reset_board():\n",
    "    plr1.set_direction(2)\n",
    "    board[0] = [obs,obs,obs,obs,obs,obs,obs,obs,obs]\n",
    "    board[1] = [obs,lnd,lnd,lnd,lnd,lnd,lnd,flg,obs]\n",
    "    board[2] = [obs,lnd,obs,obs,obs,obs,obs,obs,obs]\n",
    "    board[3] = [obs,lnd,lnd,lnd,lnd,lnd,lnd,lnd,obs]\n",
    "    board[4] = [obs,obs,obs,obs,lnd,obs,obs,obs,obs]\n",
    "    board[5] = [obs,lnd,lnd,lnd,lnd,obs,obs,obs,obs]\n",
    "    board[6] = [obs,lnd,obs,obs,obs,obs,obs,obs,obs]\n",
    "    board[7] = [obs,lnd,lnd,lnd,lnd,lnd,lnd,plr1.get_img(),obs]\n",
    "    board[8] = [obs,obs,obs,obs,obs,obs,obs,obs,obs]\n",
    "    "
   ]
  },
  {
   "cell_type": "code",
   "execution_count": 29,
   "metadata": {},
   "outputs": [],
   "source": [
    "\n",
    "def move(m):\n",
    "    if(m == 'F'):\n",
    "        plr1.forward()\n",
    "        set_plr_pos(plr1,board)\n",
    "    elif(m == 'L'):\n",
    "        plr1.turn_left()\n",
    "        set_plr_pos(plr1,board)\n",
    "    elif(m == 'R'):\n",
    "        plr1.turn_right()\n",
    "        set_plr_pos(plr1,board)\n",
    "    elif(m == 'U'):\n",
    "        plr1.turn_up()\n",
    "        set_plr_pos(plr1,board)\n",
    "    elif(m == 'D'):\n",
    "        plr1.turn_down()\n",
    "        set_plr_pos(plr1,board)\n",
    "    \n",
    "\n",
    "        "
   ]
  },
  {
   "cell_type": "code",
   "execution_count": 30,
   "metadata": {},
   "outputs": [
    {
     "name": "stdout",
     "output_type": "stream",
     "text": [
      "[>]\n",
      "XXX XXX XXX XXX XXX XXX XXX XXX XXX\n",
      "\n",
      "XXX                         [>] XXX\n",
      "\n",
      "XXX     XXX XXX XXX XXX XXX XXX XXX\n",
      "\n",
      "XXX                             XXX\n",
      "\n",
      "XXX XXX XXX XXX     XXX XXX XXX XXX\n",
      "\n",
      "XXX                 XXX XXX XXX XXX\n",
      "\n",
      "XXX     XXX XXX XXX XXX XXX XXX XXX\n",
      "\n",
      "XXX                             XXX\n",
      "\n",
      "XXX XXX XXX XXX XXX XXX XXX XXX XXX\n",
      "\n"
     ]
    }
   ],
   "source": [
    "moves = ['F','F','F','F','F','F','U','F','F','R','F','F','F','U','F','F','L','F','F','F','U','F','F','R','F','F','F','F','F','F']\n",
    "\n",
    "reset_board()\n",
    "print('start')\n",
    "plr1 = Player(7,7,2)\n",
    "\n",
    "for m in moves:\n",
    "    move(m)\n",
    "    print_board(board)\n",
    "    time.sleep(0.25)\n",
    "    clear_output(wait=True)"
   ]
  },
  {
   "cell_type": "code",
   "execution_count": null,
   "metadata": {},
   "outputs": [],
   "source": [
    "board1 = \n",
    "\n",
    "board[0] = [obs,obs,obs,obs,obs,obs,obs,obs,obs]\n",
    "    board[1] = [obs,lnd,lnd,lnd,lnd,lnd,lnd,flg,obs]\n",
    "    board[2] = [obs,lnd,obs,obs,obs,obs,obs,obs,obs]\n",
    "    board[3] = [obs,lnd,lnd,lnd,lnd,lnd,lnd,lnd,obs]\n",
    "    board[4] = [obs,obs,obs,obs,lnd,obs,obs,obs,obs]\n",
    "    board[5] = [obs,lnd,lnd,lnd,lnd,obs,obs,obs,obs]\n",
    "    board[6] = [obs,lnd,obs,obs,obs,obs,obs,obs,obs]\n",
    "    board[7] = [obs,lnd,lnd,lnd,lnd,lnd,lnd,plr1.get_img(),obs]\n",
    "    board[8] = [obs,obs,obs,obs,obs,obs,obs,obs,obs]"
   ]
  },
  {
   "cell_type": "code",
   "execution_count": 41,
   "metadata": {},
   "outputs": [],
   "source": [
    "board_length = 9\n",
    "board_height = 9\n",
    "\n",
    "board =[[lnd]*board_length]*board_height\n",
    "\n",
    "board[0] = [obs]*board_length\n",
    "board[-1] = [obs]*board_length\n",
    "for line in board:\n",
    "    line[0] = obs\n",
    "    line[-1] = obs"
   ]
  },
  {
   "cell_type": "code",
   "execution_count": 42,
   "metadata": {},
   "outputs": [
    {
     "name": "stdout",
     "output_type": "stream",
     "text": [
      "XXX XXX XXX XXX XXX XXX XXX XXX XXX\n",
      "\n",
      "XXX                             XXX\n",
      "\n",
      "XXX                             XXX\n",
      "\n",
      "XXX                             XXX\n",
      "\n",
      "XXX                             XXX\n",
      "\n",
      "XXX                             XXX\n",
      "\n",
      "XXX                             XXX\n",
      "\n",
      "XXX                             XXX\n",
      "\n",
      "XXX XXX XXX XXX XXX XXX XXX XXX XXX\n",
      "\n"
     ]
    }
   ],
   "source": [
    "print_board(board) "
   ]
  },
  {
   "cell_type": "code",
   "execution_count": 104,
   "metadata": {},
   "outputs": [],
   "source": [
    "class Map(object):\n",
    "    \n",
    "    obs = 'XXX'\n",
    "    wat = 'WWW'\n",
    "    bdg = '[B]'\n",
    "    bck = '[K]'\n",
    "    ice =  '-I-'\n",
    "    tlp = '(T)'\n",
    "    mir = [' /|', '|\\ ',' \\|', '|/ ']\n",
    "    att = ['[U]','[D]','[L]','[R]']\n",
    "    ply = ['[^]','[v]','[<]','[>]']\n",
    "    lnd = '   '\n",
    "    flg = ' F '\n",
    "    \n",
    "    def __init__(self,length, height, player_x, player_y, flag_x, flag_y):\n",
    "        self.player_x = player_x\n",
    "        self.player_y = player_y\n",
    "        self.flag_x = flag_x\n",
    "        self.flag_y = flag_y\n",
    "        self.length = length\n",
    "        self.height = height\n",
    "        self.grid = self.create_plain()\n",
    "    \n",
    "    def create_plain(self):\n",
    "        self.grid = [[lnd]*self.length for _ in range(self.height)]\n",
    "\n",
    "        self.grid[0] = [obs]*self.length\n",
    "        self.grid[-1] = [obs]*self.length\n",
    "        for line in self.grid:\n",
    "            line[0] = obs\n",
    "            line[-1] = obs\n",
    "        self.grid[self.player_y][self.player_x] = self.ply[0]\n",
    "        self.grid[self.flag_y][self.flag_x] = self.flg\n",
    "        \n",
    "        return self.grid\n",
    "    \n",
    "    \n",
    "    def print_board(self):\n",
    "        #print ('___'*12)\n",
    "        for line in self.grid:\n",
    "            print (' '.join(line))\n",
    "            print ('')\n",
    "        \n",
    "    \n",
    "    \n"
   ]
  },
  {
   "cell_type": "code",
   "execution_count": 105,
   "metadata": {},
   "outputs": [],
   "source": [
    "board1 = Map(9,9,2,2,7,7)"
   ]
  },
  {
   "cell_type": "code",
   "execution_count": 106,
   "metadata": {},
   "outputs": [
    {
     "name": "stdout",
     "output_type": "stream",
     "text": [
      "XXX XXX XXX XXX XXX XXX XXX XXX XXX\n",
      "\n",
      "XXX                             XXX\n",
      "\n",
      "XXX     [^]                     XXX\n",
      "\n",
      "XXX                             XXX\n",
      "\n",
      "XXX                             XXX\n",
      "\n",
      "XXX                             XXX\n",
      "\n",
      "XXX                             XXX\n",
      "\n",
      "XXX                          F  XXX\n",
      "\n",
      "XXX XXX XXX XXX XXX XXX XXX XXX XXX\n",
      "\n"
     ]
    }
   ],
   "source": [
    "board1.print_board()"
   ]
  },
  {
   "cell_type": "code",
   "execution_count": 68,
   "metadata": {},
   "outputs": [
    {
     "name": "stdout",
     "output_type": "stream",
     "text": [
      "2\n"
     ]
    }
   ],
   "source": [
    "print(board1.player_y)"
   ]
  },
  {
   "cell_type": "code",
   "execution_count": 101,
   "metadata": {},
   "outputs": [
    {
     "name": "stdout",
     "output_type": "stream",
     "text": [
      "XXX XXX XXX XXX XXX XXX XXX XXX XXX\n",
      "\n",
      "XXX                             XXX\n",
      "\n",
      "XXX                             XXX\n",
      "\n",
      "XXX                             XXX\n",
      "\n",
      "XXX                             XXX\n",
      "\n",
      "XXX                             XXX\n",
      "\n",
      "XXX                             XXX\n",
      "\n",
      "XXX                             XXX\n",
      "\n",
      "XXX XXX XXX XXX XXX XXX XXX XXX XXX\n",
      "\n"
     ]
    }
   ],
   "source": [
    "board_length = 9\n",
    "board_height = 9\n",
    "\n",
    "board = [[lnd]*board_length for _ in range(board_height)]\n",
    "board[0] = [obs]*board_length\n",
    "board[-1] = [obs]*board_length\n",
    "for line in board:\n",
    "    line[0] = obs\n",
    "    line[-1] = obs\n",
    "\n",
    "print_board(board) "
   ]
  },
  {
   "cell_type": "code",
   "execution_count": 72,
   "metadata": {},
   "outputs": [],
   "source": [
    "obs = 'XXX'\n",
    "wat = 'WWW'\n",
    "bdg = '[B]'\n",
    "bck = '[K]'\n",
    "ice =  '-I-'\n",
    "tlp = '(T)'\n",
    "mir = [' /|', '|\\ ',' \\|', '|/ ']\n",
    "att = ['[U]','[D]','[L]','[R]']\n",
    "ply = ['[^]','[v]','[<]','[>]']\n",
    "lnd = '   '\n",
    "flg = ' F '"
   ]
  },
  {
   "cell_type": "code",
   "execution_count": 102,
   "metadata": {},
   "outputs": [],
   "source": [
    "player_x = 2\n",
    "player_y = 2\n",
    "\n",
    "flag_x = 7\n",
    "flag_y = 7\n",
    "\n",
    "\n",
    "board[player_y][player_x] = ply[0]\n",
    "board[flag_y][flag_x] = flg"
   ]
  },
  {
   "cell_type": "code",
   "execution_count": 103,
   "metadata": {},
   "outputs": [
    {
     "name": "stdout",
     "output_type": "stream",
     "text": [
      "XXX XXX XXX XXX XXX XXX XXX XXX XXX\n",
      "\n",
      "XXX                             XXX\n",
      "\n",
      "XXX     [^]                     XXX\n",
      "\n",
      "XXX                             XXX\n",
      "\n",
      "XXX                             XXX\n",
      "\n",
      "XXX                             XXX\n",
      "\n",
      "XXX                             XXX\n",
      "\n",
      "XXX                          F  XXX\n",
      "\n",
      "XXX XXX XXX XXX XXX XXX XXX XXX XXX\n",
      "\n"
     ]
    }
   ],
   "source": [
    "print_board(board)"
   ]
  },
  {
   "cell_type": "code",
   "execution_count": 99,
   "metadata": {},
   "outputs": [],
   "source": [
    "board[1][0] = 'SSS'"
   ]
  }
 ],
 "metadata": {
  "kernelspec": {
   "display_name": "Python 3",
   "language": "python",
   "name": "python3"
  },
  "language_info": {
   "codemirror_mode": {
    "name": "ipython",
    "version": 3
   },
   "file_extension": ".py",
   "mimetype": "text/x-python",
   "name": "python",
   "nbconvert_exporter": "python",
   "pygments_lexer": "ipython3",
   "version": "3.7.7"
  }
 },
 "nbformat": 4,
 "nbformat_minor": 4
}
