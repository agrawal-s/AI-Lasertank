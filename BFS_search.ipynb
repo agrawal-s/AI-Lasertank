{
 "cells": [
  {
   "cell_type": "code",
   "execution_count": 1,
   "metadata": {},
   "outputs": [],
   "source": [
    "\n",
    "class BFSTree(object):\n",
    "    def __init__(self,root):\n",
    "        self.root = root\n",
    "        \n",
    "    def bfs_traversal(self, start):\n",
    "        if start is None:\n",
    "            return\n",
    "        \n",
    "        queue = Queue()\n",
    "        queue.enqueue(start)\n",
    "        \n",
    "        traversal = ''\n",
    "        \n",
    "        while len(queue) > 0:\n",
    "            traversal += (str(queue.peek()) + '--')\n",
    "            node = queue.dequeue()\n",
    "            if node.child:\n",
    "                for children in node.child:\n",
    "                    queue.enqueue(children)\n",
    "        \n",
    "        return traversal\n",
    "                \n",
    "            \n",
    "        \n",
    "    \n",
    "    def print_tree(self,traversal_type):\n",
    "        if(traversal_type == 'preorder'):\n",
    "            return self.preorder_traversal(self.root, '')\n",
    "        elif(traversal_type == 'postorder'):\n",
    "            return self.postorder_traversal(self.root, '')\n",
    "        elif(traversal_type == 'BFS'):\n",
    "            return self.bfs_traversal(self.root)\n",
    "        \n",
    "        else:\n",
    "            print('traversal type not supported.')\n",
    "            return False\n",
    "        \n"
   ]
  },
  {
   "cell_type": "code",
   "execution_count": 2,
   "metadata": {},
   "outputs": [],
   "source": [
    "class Queue(object):\n",
    "    def __init__(self):\n",
    "        self.items = []\n",
    "    #\n",
    "    \n",
    "    def enqueue(self, item):\n",
    "        self.items.insert(0,item)\n",
    "    \n",
    "    def dequeue(self):\n",
    "        if not self.is_empty():\n",
    "            return self.items.pop()\n",
    "    \n",
    "    def is_empty(self):\n",
    "        return len(self.items) == 0\n",
    "    \n",
    "    def peek(self):\n",
    "        if not self.is_empty():\n",
    "            return self.items[-1].value\n",
    "    \n",
    "    def __len__(self):\n",
    "\n",
    "        return self.size()\n",
    "    \n",
    "    def size(self):\n",
    "        return len(self.items)\n",
    "    \n",
    "# End of Class Definition\n",
    "\n",
    "class Stack(object):\n",
    "    \n",
    "    def __init__(self):\n",
    "        self.items = []\n",
    "    #\n",
    "    \n",
    "    def push(self, item):\n",
    "        self.items.append(item)\n",
    "    \n",
    "    def pop(self):\n",
    "        if not self.is_empty():\n",
    "            return self.items.pop()\n",
    "    \n",
    "    def is_empty(self):\n",
    "        return len(self.items) == 0\n",
    "    \n",
    "    def peek(self):\n",
    "        if not self.is_empty():\n",
    "            return self.items[-1].value\n",
    "    \n",
    "    def __len__(self):\n",
    "\n",
    "        return self.size()\n",
    "    \n",
    "    def size(self):\n",
    "        return len(self.items)\n"
   ]
  },
  {
   "cell_type": "code",
   "execution_count": 3,
   "metadata": {},
   "outputs": [],
   "source": [
    "obs = 'XXX'\n",
    "wat = 'WWW'\n",
    "bdg = '[B]'\n",
    "bck = '[K]'\n",
    "ice =  '-I-'\n",
    "tlp = '(T)'\n",
    "mir = [' /|', '|\\ ',' \\|', '|/ ']\n",
    "att = ['[U]','[D]','[L]','[R]']\n",
    "ply = ['[^]','[v]','[<]','[>]']\n",
    "lnd = '   '\n",
    "flg = ' F '\n"
   ]
  },
  {
   "cell_type": "code",
   "execution_count": 4,
   "metadata": {},
   "outputs": [],
   "source": [
    "\n",
    "board =[[lnd]*9]*9\n",
    "board\n",
    "\n",
    "\n",
    "board[0] = [obs,obs,obs,obs,obs,obs,obs,obs,obs]\n",
    "board[1] = [lnd,lnd,lnd,lnd,lnd,lnd,lnd,lnd,flg]\n",
    "board[2] = [obs,lnd,obs,obs,obs,obs,obs,obs,obs]\n",
    "board[0] = [obs,obs,obs,obs,obs,obs,obs,obs,obs]\n",
    "board[0] = [obs,obs,obs,obs,obs,obs,obs,obs,obs]\n",
    "board[0] = [obs,obs,obs,obs,obs,obs,obs,obs,obs]\n"
   ]
  },
  {
   "cell_type": "code",
   "execution_count": null,
   "metadata": {},
   "outputs": [],
   "source": [
    "class Map(object):\n",
    "    def __init__(self,grid):\n",
    "        self.player_x = None\n",
    "        self.player_x = None\n",
    "        self.flag_x = None\n",
    "        self.flag_y = None\n",
    "        self.length = None\n",
    "        self.height = None\n",
    "        self.grid = None\n",
    "    \n",
    "        \n",
    "    \n",
    "    \n",
    "    \n",
    "    obs = 'XXX'\n",
    "    wat = 'WWW'\n",
    "    bdg = '[B]'\n",
    "    bck = '[K]'\n",
    "    ice =  '-I-'\n",
    "    tlp = '(T)'\n",
    "    mir = [' /|', '|\\ ',' \\|', '|/ ']\n",
    "    att = ['[U]','[D]','[L]','[R]']\n",
    "    ply = ['[^]','[v]','[<]','[>]']\n",
    "    lnd = '   '\n",
    "    flg = ' F '\n"
   ]
  },
  {
   "cell_type": "code",
   "execution_count": 5,
   "metadata": {},
   "outputs": [],
   "source": [
    "\n",
    "board =[[lnd]*9]*9\n",
    "board\n",
    "\n",
    "\n",
    "board[0] = [obs,obs,obs,obs,obs,obs,obs,obs,obs]\n",
    "board[1] = [lnd,lnd,lnd,lnd,lnd,lnd,lnd,lnd,flg]\n",
    "board[2] = [obs,lnd,obs,obs,obs,obs,obs,obs,obs]\n",
    "board[0] = [obs,obs,obs,obs,obs,obs,obs,obs,obs]\n",
    "board[0] = [obs,obs,obs,obs,obs,obs,obs,obs,obs]\n",
    "board[0] = [obs,obs,obs,obs,obs,obs,obs,obs,obs]\n"
   ]
  },
  {
   "cell_type": "code",
   "execution_count": 1,
   "metadata": {
    "scrolled": true
   },
   "outputs": [
    {
     "ename": "NameError",
     "evalue": "name 'board' is not defined",
     "output_type": "error",
     "traceback": [
      "\u001b[1;31m---------------------------------------------------------------------------\u001b[0m",
      "\u001b[1;31mNameError\u001b[0m                                 Traceback (most recent call last)",
      "\u001b[1;32m<ipython-input-1-66053c6bbf30>\u001b[0m in \u001b[0;36m<module>\u001b[1;34m\u001b[0m\n\u001b[1;32m----> 1\u001b[1;33m \u001b[0mboard\u001b[0m\u001b[1;33m\u001b[0m\u001b[1;33m\u001b[0m\u001b[0m\n\u001b[0m",
      "\u001b[1;31mNameError\u001b[0m: name 'board' is not defined"
     ]
    }
   ],
   "source": [
    "board"
   ]
  }
 ],
 "metadata": {
  "kernelspec": {
   "display_name": "Python 3",
   "language": "python",
   "name": "python3"
  },
  "language_info": {
   "codemirror_mode": {
    "name": "ipython",
    "version": 3
   },
   "file_extension": ".py",
   "mimetype": "text/x-python",
   "name": "python",
   "nbconvert_exporter": "python",
   "pygments_lexer": "ipython3",
   "version": "3.7.7"
  }
 },
 "nbformat": 4,
 "nbformat_minor": 4
}
