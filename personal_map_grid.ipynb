{
 "cells": [
  {
   "cell_type": "code",
   "execution_count": 92,
   "metadata": {},
   "outputs": [
    {
     "name": "stdout",
     "output_type": "stream",
     "text": [
      "   |   |   |   |   |   |   |   |   \n",
      "------------------------------------\n",
      "   |   |   |   |   |   |   |   |   \n",
      "------------------------------------\n",
      "   |   |   |   |   |   |   |   |   \n",
      "------------------------------------\n",
      "   |   |   | F |   |   |   |   |   \n",
      "------------------------------------\n",
      "   |   |   |   |   |   |   |   |   \n",
      "------------------------------------\n",
      "   |   |   |   |   |   |   |   |   \n",
      "------------------------------------\n",
      "   |   |   |   |   |   |   |   |   \n",
      "------------------------------------\n",
      "   |   |   |   |   |   |   |[^]|   \n",
      "------------------------------------\n",
      "   |   |   |   |   |   |   |   |   \n",
      "------------------------------------\n"
     ]
    }
   ],
   "source": [
    "class SquareGrid(object):\n",
    "    \n",
    "    obs = 'XXX'\n",
    "    wat = 'WWW'\n",
    "    bdg = '[B]'\n",
    "    bck = '[K]'\n",
    "    ice =  '-I-'\n",
    "    tlp = '(T)'\n",
    "    mir = [' /|', '|\\ ',' \\|', '|/ ']\n",
    "    att = ['[U]','[D]','[L]','[R]']\n",
    "    ply = ['[^]','[v]','[<]','[>]']\n",
    "    lnd = '   '\n",
    "    flg = ' F '\n",
    "        \n",
    "    def __init__(self,width, height):\n",
    "        self.width = width\n",
    "        self.height = height\n",
    "        self.walls = []\n",
    "        self.connections = [[0,1], [0,-1], [1,0], [-1,0]]\n",
    "        self.antitanks = []\n",
    "        self.mirrors = []\n",
    "        self.teleports = []\n",
    "        self.grid = None\n",
    "        self.player_pos = None\n",
    "        self.flag_pos = None\n",
    "        \n",
    "    \n",
    "    \n",
    "    def get_width(self):\n",
    "        return self.width\n",
    "    \n",
    "    def get_height(self):\n",
    "        return self.height\n",
    "    \n",
    "    def get_walls(self):\n",
    "        return self.walls\n",
    "    \n",
    "    def get_connections(self):\n",
    "        return self.connections\n",
    "    \n",
    "    def get_antitanks(self):\n",
    "        return self.antitanks\n",
    "    \n",
    "    def get_teleports(self):\n",
    "        return self.width\n",
    "    \n",
    "    def get_grid(self):\n",
    "        return self.grid\n",
    "    \n",
    "    def get_player_pos(self):\n",
    "        return self.get_player_pos\n",
    "    \n",
    "    def get_flag_pos(self):\n",
    "        return self.get_flag_pos\n",
    "    \n",
    "    \n",
    "    \n",
    "    def find_next_cell(self,node, connection):\n",
    "        \n",
    "        from operator import add\n",
    "        from operator import sub\n",
    "        \n",
    "        return list( map(add, node, connection) )\n",
    "    \n",
    "    def find_neighbours(self,node):\n",
    "        neighbours = [self.find_next_cell(node, connection) for connection in self.connections]\n",
    "        neighbours = [cell for cell in neighbours if g.passable(cell)]\n",
    "        return neighbours\n",
    "    \n",
    "    \n",
    "    def in_bounds(self,node):\n",
    "        ''' check if player is in bounds of grid boundary'''\n",
    "        \n",
    "        return 0 <= node[1] < self.width and 0 <=node[0] < self.height\n",
    "    \n",
    "    def passable(self, node):\n",
    "        ''' \n",
    "        check if node is not blocks\n",
    "        '''\n",
    "        \n",
    "        return (node not in self.walls and self.in_bounds(node))\n",
    "    \n",
    "    def draw(self):\n",
    "        \n",
    "        self.grid = [[self.lnd]*self.width for _ in range(self.height)]\n",
    "        \n",
    "        self.grid[self.player_pos[0]][self.player_pos[1]] = self.ply[0]\n",
    "        self.grid[self.flag_pos[0]][self.flag_pos[1]] = self.flg\n",
    "        \n",
    "        for block in self.walls:\n",
    "            self.grid[block[0]][block[1]] = self.obs\n",
    "    \n",
    "    def print_grid(self):\n",
    "        for line in self.grid:\n",
    "            print ('|'.join(line))\n",
    "            print ('------------------------------------')\n",
    "        \n",
    "    \n",
    "    def add_walls(self,walls):\n",
    "        for cell in walls:\n",
    "            self.grid[cell[0]][cell[1]] = self.obs\n",
    "            self.walls.append(cell)\n",
    "    \n",
    "    def draw_path(self,path_list):\n",
    "        \n",
    "        for i,cell in enumerate(path_list):\n",
    "            self.grid[cell[0]][cell[1]] = ' '+ str(i) + ' '\n",
    "        \n",
    "        self.print_grid()\n",
    "                \n",
    "            \n",
    "            \n",
    "            \n",
    "g = SquareGrid(9,9)\n",
    "\n",
    "g.player_pos = [7,7]\n",
    "g.flag_pos = [3,3]\n",
    "\n",
    "g.draw()\n",
    "g.print_grid()"
   ]
  },
  {
   "cell_type": "code",
   "execution_count": 54,
   "metadata": {},
   "outputs": [
    {
     "name": "stdout",
     "output_type": "stream",
     "text": [
      "                                   \n",
      "\n",
      "                                   \n",
      "\n",
      "                                   \n",
      "\n",
      "             F  XXX                \n",
      "\n",
      "            XXX XXX XXX            \n",
      "\n",
      "                XXX                \n",
      "\n",
      "                                   \n",
      "\n",
      "                            [^]    \n",
      "\n",
      "                                   \n",
      "\n"
     ]
    }
   ],
   "source": [
    "g.print_grid()"
   ]
  },
  {
   "cell_type": "code",
   "execution_count": 9,
   "metadata": {},
   "outputs": [
    {
     "name": "stdout",
     "output_type": "stream",
     "text": [
      "cell: [8, 8]  in bound?:  True passable?:  True\n",
      "cell: [8, 6]  in bound?:  True passable?:  True\n",
      "cell: [7, 7]  in bound?:  True passable?:  True\n"
     ]
    }
   ],
   "source": [
    "list1 = g.find_neighbours([8,7])\n",
    "\n",
    "for cell in list1:\n",
    "    print('cell:', cell,' in bound?: ', g.in_bounds(cell), 'passable?: ', g.passable(cell), )"
   ]
  },
  {
   "cell_type": "code",
   "execution_count": 10,
   "metadata": {},
   "outputs": [],
   "source": [
    "list1[:] = [x for x in list1 if g.passable(x)]"
   ]
  },
  {
   "cell_type": "code",
   "execution_count": 11,
   "metadata": {},
   "outputs": [
    {
     "data": {
      "text/plain": [
       "[[8, 8], [8, 6], [7, 7]]"
      ]
     },
     "execution_count": 11,
     "metadata": {},
     "output_type": "execute_result"
    }
   ],
   "source": [
    "list1\n"
   ]
  },
  {
   "cell_type": "code",
   "execution_count": 12,
   "metadata": {},
   "outputs": [],
   "source": [
    "def print_walls(grid, wall):\n",
    "    if wall in grid.walls:\n",
    "        print('yes')\n",
    "    else:\n",
    "        print('No')\n",
    "        \n",
    "def find_walls(grid):\n",
    "    wall_list = []\n",
    "    for i,row in enumerate(grid):\n",
    "        for j,block in enumerate(row):\n",
    "            if block == 'XXX':\n",
    "                x = j\n",
    "                y = i\n",
    "                wall_list.append(list([x,y]))\n",
    "    return wall_list\n",
    "\n",
    "        "
   ]
  },
  {
   "cell_type": "code",
   "execution_count": 146,
   "metadata": {},
   "outputs": [],
   "source": []
  },
  {
   "cell_type": "code",
   "execution_count": null,
   "metadata": {},
   "outputs": [],
   "source": []
  },
  {
   "cell_type": "code",
   "execution_count": 13,
   "metadata": {},
   "outputs": [
    {
     "name": "stdout",
     "output_type": "stream",
     "text": [
      "No\n"
     ]
    }
   ],
   "source": [
    "print_walls(g,[2,3])"
   ]
  },
  {
   "cell_type": "code",
   "execution_count": 14,
   "metadata": {},
   "outputs": [],
   "source": [
    "a = find_walls(g.grid)\n"
   ]
  },
  {
   "cell_type": "code",
   "execution_count": 15,
   "metadata": {},
   "outputs": [
    {
     "data": {
      "text/plain": [
       "[[8, 8], [8, 6], [7, 7]]"
      ]
     },
     "execution_count": 15,
     "metadata": {},
     "output_type": "execute_result"
    }
   ],
   "source": [
    "g.find_neighbours([8,7])"
   ]
  },
  {
   "cell_type": "code",
   "execution_count": 17,
   "metadata": {},
   "outputs": [
    {
     "ename": "IndentationError",
     "evalue": "unindent does not match any outer indentation level (<tokenize>, line 13)",
     "output_type": "error",
     "traceback": [
      "\u001b[1;36m  File \u001b[1;32m\"<tokenize>\"\u001b[1;36m, line \u001b[1;32m13\u001b[0m\n\u001b[1;33m    print('\\n' * (20 - self.y_size))\u001b[0m\n\u001b[1;37m    ^\u001b[0m\n\u001b[1;31mIndentationError\u001b[0m\u001b[1;31m:\u001b[0m unindent does not match any outer indentation level\n"
     ]
    }
   ],
   "source": [
    "for r in range(self.y_size):\n",
    "            line = ''\n",
    "            for c in range(self.x_size):\n",
    "                glyph = self.MAP_GLYPH_TABLE[self.grid_data[r][c]]\n",
    "\n",
    "                # overwrite with player\n",
    "                if r == self.player_y and c == self.player_x:\n",
    "                    glyph = self.PLAYER_GLYPH_TABLE[self.player_heading]\n",
    "\n",
    "                line += glyph\n",
    "            print(line)\n",
    "\n",
    "        print('\\n' * (20 - self.y_size))"
   ]
  },
  {
   "cell_type": "code",
   "execution_count": 18,
   "metadata": {},
   "outputs": [],
   "source": [
    "g.add_walls(a)"
   ]
  },
  {
   "cell_type": "code",
   "execution_count": 57,
   "metadata": {},
   "outputs": [
    {
     "name": "stdout",
     "output_type": "stream",
     "text": [
      "XXX XXX XXX XXX XXX XXX XXX XXX XXX\n",
      "\n",
      "XXX                             XXX\n",
      "\n",
      "XXX                             XXX\n",
      "\n",
      "XXX          F  XXX             XXX\n",
      "\n",
      "XXX         XXX XXX XXX         XXX\n",
      "\n",
      "XXX             XXX             XXX\n",
      "\n",
      "XXX                             XXX\n",
      "\n",
      "XXX                         [^] XXX\n",
      "\n",
      "XXX XXX XXX XXX XXX XXX XXX XXX XXX\n",
      "\n"
     ]
    }
   ],
   "source": [
    "g.print_grid()"
   ]
  },
  {
   "cell_type": "code",
   "execution_count": 66,
   "metadata": {},
   "outputs": [
    {
     "name": "stdout",
     "output_type": "stream",
     "text": [
      "XXX|XXX|XXX|XXX|XXX|XXX|XXX|XXX|XXX\n",
      "------------------------------------\n",
      "XXX|   |   |   |   |   |   |   |XXX\n",
      "------------------------------------\n",
      "XXX|   |   |   |   |   |   |   |XXX\n",
      "------------------------------------\n",
      "XXX|   |   | F |XXX|   |   |   |XXX\n",
      "------------------------------------\n",
      "XXX|   |   |XXX|XXX|XXX|   |   |XXX\n",
      "------------------------------------\n",
      "XXX|   |   |   |XXX|   |   |   |XXX\n",
      "------------------------------------\n",
      "XXX|   |   |   |   |   |   |   |XXX\n",
      "------------------------------------\n",
      "XXX|   |   |   |   |   |   |[^]|XXX\n",
      "------------------------------------\n",
      "XXX|XXX|XXX|XXX|XXX|XXX|XXX|XXX|XXX\n",
      "------------------------------------\n"
     ]
    }
   ],
   "source": [
    "         \n",
    "g = SquareGrid(9,9)\n",
    "\n",
    "g.player_pos = [7,7]\n",
    "g.flag_pos = [3,3]\n",
    "\n",
    "g.draw()\n",
    "\n",
    "plus_walls = [[4,4],[4,3],[4,5],[3,4],[5,4]]\n",
    "boundary_walls = [[0,0], [0,1], [0,2], [0,3], [0,4], [0,5], [0,6], [0,7], [0,8], [8,0], [8,1], [8,2], [8,3], [8,4], [8,5], [8,6], [8,7], [8,8], [1,0], [2,0], [3,0], [4,0], [5,0], [6,0], [7,0], [1,8], [2,8], [3,8], [4,8], [5,8], [6,8], [7,8]]\n",
    "g.add_walls(plus_walls)\n",
    "g.add_walls(boundary_walls)\n",
    "\n",
    "g.print_grid()\n"
   ]
  },
  {
   "cell_type": "code",
   "execution_count": 21,
   "metadata": {},
   "outputs": [
    {
     "data": {
      "text/plain": [
       "[7, 7]"
      ]
     },
     "execution_count": 21,
     "metadata": {},
     "output_type": "execute_result"
    }
   ],
   "source": [
    "g.player_pos"
   ]
  },
  {
   "cell_type": "code",
   "execution_count": 133,
   "metadata": {},
   "outputs": [],
   "source": [
    "from collections import deque\n",
    "from operator import sub\n",
    "from operator import add\n",
    "\n",
    "def BFS(graph, start, goal):\n",
    "    frontier = deque() \n",
    "    frontier.append(start)\n",
    "    visited = []\n",
    "    visited.append(start)\n",
    "    path = {}\n",
    "    backtrack = {}\n",
    "    backtrack[tuple(start)] = tuple(start)\n",
    "    \n",
    "    \n",
    "    \n",
    "    path[tuple(start)] = [0,0]\n",
    "    \n",
    "    while len(frontier) > 0:\n",
    "        current = frontier.popleft()\n",
    "        #print('current node = ', current)\n",
    "        #print('goal node = ', goal)\n",
    "        \n",
    "        if current == tuple(goal):\n",
    "            break\n",
    "        for next in graph.find_neighbours(current):\n",
    "           #if next not in visited:\n",
    "           #    frontier.append(next)\n",
    "           #    visited.append(next)\n",
    "           #\n",
    "            \n",
    "            if tuple(next) not in path:\n",
    "                frontier.append(tuple(next))\n",
    "                backtrack[tuple(next)] = tuple(current)\n",
    "                path[tuple(next)] = list( map(sub, current, next))\n",
    "    \n",
    "    #getting path from start to goal\n",
    "    \n",
    "    #current = list( map(add, start, path[tuple(start)]))\n",
    "    #while current != goal:\n",
    "    #    print(current)\n",
    "    #    current = list( map(add, current, path[tuple(current)]))\n",
    "    #    \n",
    "        \n",
    "    \n",
    "    #print('total nodes searched = ', len(path))\n",
    "    #print(path)\n",
    "    return path,backtrack          "
   ]
  },
  {
   "cell_type": "code",
   "execution_count": 132,
   "metadata": {},
   "outputs": [
    {
     "name": "stdout",
     "output_type": "stream",
     "text": [
      "total nodes searched =  17\n"
     ]
    }
   ],
   "source": [
    "path,backtrack = BFS(g,[7,7],[5,5])"
   ]
  },
  {
   "cell_type": "code",
   "execution_count": 124,
   "metadata": {
    "scrolled": true
   },
   "outputs": [
    {
     "name": "stdout",
     "output_type": "stream",
     "text": [
      "True\n"
     ]
    }
   ],
   "source": [
    "current = [7,7]\n",
    "goal = [7,7]\n",
    "print(current == goal)"
   ]
  },
  {
   "cell_type": "code",
   "execution_count": 24,
   "metadata": {},
   "outputs": [],
   "source": [
    "dict1 = {}\n",
    "\n",
    "dict1[(0,0)] = 1"
   ]
  },
  {
   "cell_type": "code",
   "execution_count": 53,
   "metadata": {},
   "outputs": [
    {
     "name": "stdout",
     "output_type": "stream",
     "text": [
      "(3, 2)\n",
      "(4, 2)\n",
      "(5, 2)\n",
      "(6, 2)\n",
      "(7, 2)\n",
      "(7, 3)\n",
      "(7, 4)\n",
      "(7, 5)\n",
      "(7, 6)\n"
     ]
    }
   ],
   "source": []
  },
  {
   "cell_type": "code",
   "execution_count": 25,
   "metadata": {},
   "outputs": [
    {
     "data": {
      "text/plain": [
       "(0, 0)"
      ]
     },
     "execution_count": 25,
     "metadata": {},
     "output_type": "execute_result"
    }
   ],
   "source": [
    "a = [0,0]\n",
    "tuple(a)"
   ]
  },
  {
   "cell_type": "code",
   "execution_count": 26,
   "metadata": {},
   "outputs": [
    {
     "data": {
      "text/plain": [
       "[1, 2]"
      ]
     },
     "execution_count": 26,
     "metadata": {},
     "output_type": "execute_result"
    }
   ],
   "source": [
    "b = [2,2]\n",
    "c = [1,0]\n",
    "list( map(sub, b, c) )"
   ]
  },
  {
   "cell_type": "code",
   "execution_count": 38,
   "metadata": {},
   "outputs": [],
   "source": [
    "arrow_dict = {(0,-1): 'down', (0,1):'up', (-1,0): 'left', (1,0): 'right', (0,0): 'start'}\n",
    "path = BFS(g,[7,7])"
   ]
  },
  {
   "cell_type": "code",
   "execution_count": 39,
   "metadata": {
    "scrolled": true
   },
   "outputs": [
    {
     "name": "stdout",
     "output_type": "stream",
     "text": [
      "(7, 7) (0, 0) start\n",
      "(7, 8) (0, -1) down\n",
      "(7, 6) (0, 1) up\n",
      "(8, 7) (-1, 0) left\n",
      "(6, 7) (1, 0) right\n",
      "(8, 8) (-1, 0) left\n",
      "(6, 8) (1, 0) right\n",
      "(7, 5) (0, 1) up\n",
      "(8, 6) (-1, 0) left\n",
      "(6, 6) (1, 0) right\n",
      "(5, 7) (1, 0) right\n",
      "(5, 8) (1, 0) right\n",
      "(7, 4) (0, 1) up\n",
      "(8, 5) (-1, 0) left\n",
      "(6, 5) (1, 0) right\n",
      "(5, 6) (1, 0) right\n",
      "(4, 7) (1, 0) right\n",
      "(4, 8) (1, 0) right\n",
      "(7, 3) (0, 1) up\n",
      "(8, 4) (-1, 0) left\n",
      "(6, 4) (1, 0) right\n",
      "(5, 5) (1, 0) right\n",
      "(4, 6) (1, 0) right\n",
      "(3, 7) (1, 0) right\n",
      "(3, 8) (1, 0) right\n",
      "(7, 2) (0, 1) up\n",
      "(8, 3) (-1, 0) left\n",
      "(6, 3) (1, 0) right\n",
      "(3, 6) (1, 0) right\n",
      "(2, 7) (1, 0) right\n",
      "(2, 8) (1, 0) right\n",
      "(7, 1) (0, 1) up\n",
      "(8, 2) (-1, 0) left\n",
      "(6, 2) (1, 0) right\n",
      "(5, 3) (1, 0) right\n",
      "(3, 5) (0, 1) up\n",
      "(2, 6) (1, 0) right\n",
      "(1, 7) (1, 0) right\n",
      "(1, 8) (1, 0) right\n",
      "(7, 0) (0, 1) up\n",
      "(8, 1) (-1, 0) left\n",
      "(6, 1) (1, 0) right\n",
      "(5, 2) (1, 0) right\n",
      "(2, 5) (1, 0) right\n",
      "(1, 6) (1, 0) right\n",
      "(0, 7) (1, 0) right\n",
      "(0, 8) (1, 0) right\n",
      "(8, 0) (-1, 0) left\n",
      "(6, 0) (1, 0) right\n",
      "(5, 1) (1, 0) right\n",
      "(4, 2) (1, 0) right\n",
      "(2, 4) (0, 1) up\n",
      "(1, 5) (1, 0) right\n",
      "(0, 6) (1, 0) right\n",
      "(5, 0) (1, 0) right\n",
      "(4, 1) (1, 0) right\n",
      "(3, 2) (1, 0) right\n",
      "(2, 3) (0, 1) up\n",
      "(1, 4) (1, 0) right\n",
      "(0, 5) (1, 0) right\n",
      "(4, 0) (1, 0) right\n",
      "(3, 1) (1, 0) right\n",
      "(3, 3) (0, -1) down\n",
      "(2, 2) (1, 0) right\n",
      "(1, 3) (1, 0) right\n",
      "(0, 4) (1, 0) right\n",
      "(3, 0) (1, 0) right\n",
      "(2, 1) (1, 0) right\n",
      "(1, 2) (1, 0) right\n",
      "(0, 3) (1, 0) right\n",
      "(2, 0) (1, 0) right\n",
      "(1, 1) (1, 0) right\n",
      "(0, 2) (1, 0) right\n",
      "(1, 0) (1, 0) right\n",
      "(0, 1) (1, 0) right\n",
      "(0, 0) (1, 0) right\n"
     ]
    }
   ],
   "source": [
    "for key in path:\n",
    "    value = tuple(path[key])\n",
    "    print (key, value, arrow_dict[value])"
   ]
  },
  {
   "cell_type": "code",
   "execution_count": 32,
   "metadata": {},
   "outputs": [
    {
     "ename": "KeyError",
     "evalue": "(0, 0)",
     "output_type": "error",
     "traceback": [
      "\u001b[1;31m---------------------------------------------------------------------------\u001b[0m",
      "\u001b[1;31mKeyError\u001b[0m                                  Traceback (most recent call last)",
      "\u001b[1;32m<ipython-input-32-d482235c1796>\u001b[0m in \u001b[0;36m<module>\u001b[1;34m\u001b[0m\n\u001b[1;32m----> 1\u001b[1;33m \u001b[0marrow_dict\u001b[0m\u001b[1;33m[\u001b[0m\u001b[0mtuple\u001b[0m\u001b[1;33m(\u001b[0m\u001b[0mpath\u001b[0m\u001b[1;33m[\u001b[0m\u001b[0mkey\u001b[0m\u001b[1;33m]\u001b[0m\u001b[1;33m)\u001b[0m\u001b[1;33m]\u001b[0m\u001b[1;33m\u001b[0m\u001b[1;33m\u001b[0m\u001b[0m\n\u001b[0m",
      "\u001b[1;31mKeyError\u001b[0m: (0, 0)"
     ]
    }
   ],
   "source": [
    "arrow_dict[tuple(path[key])]"
   ]
  },
  {
   "cell_type": "code",
   "execution_count": 34,
   "metadata": {},
   "outputs": [
    {
     "data": {
      "text/plain": [
       "(0, 0)"
      ]
     },
     "execution_count": 34,
     "metadata": {},
     "output_type": "execute_result"
    }
   ],
   "source": [
    "value"
   ]
  },
  {
   "cell_type": "code",
   "execution_count": 93,
   "metadata": {},
   "outputs": [
    {
     "name": "stdout",
     "output_type": "stream",
     "text": [
      "XXX|XXX|XXX|XXX|XXX|XXX|XXX|XXX|XXX\n",
      "------------------------------------\n",
      "XXX|   |   |   |   |   |   |   |XXX\n",
      "------------------------------------\n",
      "XXX|   |   |   |   |   |   |   |XXX\n",
      "------------------------------------\n",
      "XXX|   |   | F |XXX|   |   |   |XXX\n",
      "------------------------------------\n",
      "XXX|XXX|XXX|XXX|XXX|XXX|   |   |XXX\n",
      "------------------------------------\n",
      "XXX|   |   |   |XXX|   |   |   |XXX\n",
      "------------------------------------\n",
      "XXX|   |   |   |   |   |   |   |XXX\n",
      "------------------------------------\n",
      "XXX|   |   |   |   |   |   |[^]|XXX\n",
      "------------------------------------\n",
      "XXX|XXX|XXX|XXX|XXX|XXX|XXX|XXX|XXX\n",
      "------------------------------------\n"
     ]
    }
   ],
   "source": [
    "g = SquareGrid(9,9)\n",
    "\n",
    "g.player_pos = [7,7]\n",
    "g.flag_pos = [3,3]\n",
    "\n",
    "g.draw()\n",
    "\n",
    "plus_walls = [[4,4],[4,3],[4,5],[3,4],[5,4],[4,2],[4,1]]\n",
    "boundary_walls = [[0,0], [0,1], [0,2], [0,3], [0,4], [0,5], [0,6], [0,7], [0,8], [8,0], [8,1], [8,2], [8,3], [8,4], [8,5], [8,6], [8,7], [8,8], [1,0], [2,0], [3,0], [4,0], [5,0], [6,0], [7,0], [1,8], [2,8], [3,8], [4,8], [5,8], [6,8], [7,8]]\n",
    "g.add_walls(plus_walls)\n",
    "g.add_walls(boundary_walls)\n",
    "\n",
    "g.print_grid()\n"
   ]
  },
  {
   "cell_type": "code",
   "execution_count": 134,
   "metadata": {},
   "outputs": [
    {
     "name": "stdout",
     "output_type": "stream",
     "text": [
      "(2, 3)\n",
      "(2, 4)\n",
      "(2, 5)\n",
      "(3, 5)\n",
      "(3, 6)\n",
      "(4, 6)\n",
      "(5, 6)\n",
      "(6, 6)\n",
      "(7, 6)\n"
     ]
    },
    {
     "data": {
      "text/plain": [
       "[[7, 6],\n",
       " [6, 6],\n",
       " [5, 6],\n",
       " [4, 6],\n",
       " [3, 6],\n",
       " [3, 5],\n",
       " [2, 5],\n",
       " [2, 4],\n",
       " [2, 3],\n",
       " [3, 3]]"
      ]
     },
     "execution_count": 134,
     "metadata": {},
     "output_type": "execute_result"
    }
   ],
   "source": [
    "path,backtrack = BFS(g,g.player_pos,g.flag_pos)\n",
    "path_list = [g.flag_pos]\n",
    "key = tuple(g.flag_pos)\n",
    "while backtrack[key] != (7,7):\n",
    "    print(backtrack[key])\n",
    "    path_list.append(list(backtrack[key]))\n",
    "    key = backtrack[key]\n",
    "\n",
    "path_list.reverse()\n",
    "path_list"
   ]
  },
  {
   "cell_type": "code",
   "execution_count": 135,
   "metadata": {},
   "outputs": [
    {
     "name": "stdout",
     "output_type": "stream",
     "text": [
      "XXX|XXX|XXX|XXX|XXX|XXX|XXX|XXX|XXX\n",
      "------------------------------------\n",
      "XXX|   |   |   |   |   |   |   |XXX\n",
      "------------------------------------\n",
      "XXX|   |   | 8 | 7 | 6 |   |   |XXX\n",
      "------------------------------------\n",
      "XXX|   |   | 9 |XXX| 5 | 4 |   |XXX\n",
      "------------------------------------\n",
      "XXX|XXX|XXX|XXX|XXX|XXX| 3 |   |XXX\n",
      "------------------------------------\n",
      "XXX|   |   |   |XXX|   | 2 |   |XXX\n",
      "------------------------------------\n",
      "XXX|   |   |   |   |   | 1 |   |XXX\n",
      "------------------------------------\n",
      "XXX|   |   |   |   |   | 0 |[^]|XXX\n",
      "------------------------------------\n",
      "XXX|XXX|XXX|XXX|XXX|XXX|XXX|XXX|XXX\n",
      "------------------------------------\n"
     ]
    }
   ],
   "source": [
    "g.draw_path(path_list)"
   ]
  },
  {
   "cell_type": "code",
   "execution_count": 137,
   "metadata": {},
   "outputs": [
    {
     "name": "stdout",
     "output_type": "stream",
     "text": [
      "XXX|XXX|XXX|XXX|XXX|XXX|XXX|XXX|XXX\n",
      "------------------------------------\n",
      "XXX|   |   |   |   |   |   |   |XXX\n",
      "------------------------------------\n",
      "XXX|   |   | 8 | 7 | 6 |   |   |XXX\n",
      "------------------------------------\n",
      "XXX|   |   | 9 |XXX| 5 | 4 |   |XXX\n",
      "------------------------------------\n",
      "XXX|XXX|XXX|XXX|XXX|XXX| 3 |   |XXX\n",
      "------------------------------------\n",
      "XXX|   |   |   |XXX|   | 2 |   |XXX\n",
      "------------------------------------\n",
      "XXX|   |   |   |   |   | 1 |   |XXX\n",
      "------------------------------------\n",
      "XXX|   |   |   |   |   | 0 |[^]|XXX\n",
      "------------------------------------\n",
      "XXX|XXX|XXX|XXX|XXX|XXX|XXX|XXX|XXX\n",
      "------------------------------------\n"
     ]
    }
   ],
   "source": [
    "g.print_grid()"
   ]
  },
  {
   "cell_type": "code",
   "execution_count": 145,
   "metadata": {},
   "outputs": [],
   "source": [
    "# move symbols (i.e. output file symbols)\n",
    "MOVE_FORWARD = 'f'\n",
    "TURN_LEFT = 'l'\n",
    "TURN_RIGHT = 'r'\n",
    "SHOOT_LASER = 's'\n",
    "MOVES = [MOVE_FORWARD, TURN_LEFT, TURN_RIGHT, SHOOT_LASER]\n",
    "# directions\n",
    "UP = 0\n",
    "DOWN = 1\n",
    "LEFT = 2\n",
    "RIGHT = 3\n",
    "# move return statuses\n",
    "SUCCESS = 0\n",
    "COLLISION = 1\n",
    "GAME_OVER = 2"
   ]
  },
  {
   "cell_type": "code",
   "execution_count": 143,
   "metadata": {},
   "outputs": [],
   "source": [
    "def get_moves(start,end):\n",
    "    \n",
    "    move = tuple( map(sub, end, start))\n",
    "    \n",
    "    return move\n",
    "\n",
    "\n",
    "if(player_heading == UP):\n",
    "    "
   ]
  },
  {
   "cell_type": "code",
   "execution_count": 144,
   "metadata": {},
   "outputs": [
    {
     "data": {
      "text/plain": [
       "(0, 1)"
      ]
     },
     "execution_count": 144,
     "metadata": {},
     "output_type": "execute_result"
    }
   ],
   "source": [
    "get_moves([2,1],[2,2])"
   ]
  }
 ],
 "metadata": {
  "kernelspec": {
   "display_name": "Python 3",
   "language": "python",
   "name": "python3"
  },
  "language_info": {
   "codemirror_mode": {
    "name": "ipython",
    "version": 3
   },
   "file_extension": ".py",
   "mimetype": "text/x-python",
   "name": "python",
   "nbconvert_exporter": "python",
   "pygments_lexer": "ipython3",
   "version": "3.7.7"
  }
 },
 "nbformat": 4,
 "nbformat_minor": 4
}
